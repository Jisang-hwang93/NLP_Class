{
  "nbformat": 4,
  "nbformat_minor": 0,
  "metadata": {
    "colab": {
      "name": "10_Naive_Bayes_Multi_Classifier_Practice.ipynb",
      "provenance": [],
      "collapsed_sections": [],
      "authorship_tag": "ABX9TyPZWOfchlQUQYPFaqnUTQIX",
      "include_colab_link": true
    },
    "kernelspec": {
      "name": "python3",
      "display_name": "Python 3"
    }
  },
  "cells": [
    {
      "cell_type": "markdown",
      "metadata": {
        "id": "view-in-github",
        "colab_type": "text"
      },
      "source": [
        "<a href=\"https://colab.research.google.com/github/Jisang-hwang93/NLP_Class/blob/master/10%20Naive%20Bayes%20Multi%20Classifier%20Practice.ipynb\" target=\"_parent\"><img src=\"https://colab.research.google.com/assets/colab-badge.svg\" alt=\"Open In Colab\"/></a>"
      ]
    },
    {
      "cell_type": "markdown",
      "metadata": {
        "id": "sRfFUmTE1xmw",
        "colab_type": "text"
      },
      "source": [
        "# **Naive Bayes Calssifier를 이용한 다중 문항 분류**"
      ]
    },
    {
      "cell_type": "markdown",
      "metadata": {
        "id": "4PXUaWzn1tAQ",
        "colab_type": "text"
      },
      "source": [
        "## **1. Naive Bayes Classifier 다중 분류 구현**\n",
        "**메일 필터링**"
      ]
    },
    {
      "cell_type": "markdown",
      "metadata": {
        "id": "1HPosVms1we3",
        "colab_type": "text"
      },
      "source": [
        "### **1-1. 데이터 전처리**"
      ]
    },
    {
      "cell_type": "code",
      "metadata": {
        "id": "-Rsi_bZ81bSt",
        "colab_type": "code",
        "colab": {}
      },
      "source": [
        "# 메일과 메일의 종류 데이터\n",
        "mail = ['me free lottery',\n",
        "        'free get free you',\n",
        "        'you free scholarship',\n",
        "        'free to contact me',\n",
        "        'you won award',\n",
        "        'you ticket lottery']\n",
        "\n",
        "mail_type = [\"spam\", \"spam\", \"normal\", \"normal\", \"normal\", \"spam\"]"
      ],
      "execution_count": 1,
      "outputs": []
    },
    {
      "cell_type": "code",
      "metadata": {
        "id": "24iN2MJr151Z",
        "colab_type": "code",
        "colab": {
          "base_uri": "https://localhost:8080/",
          "height": 334
        },
        "outputId": "07080e2f-1d8e-4b5d-e3fa-e2938d449ccd"
      },
      "source": [
        "# 각 문장 토큰화\n",
        "lines = []\n",
        "tokens = []\n",
        "\n",
        "for i in range(len(mail)):\n",
        "    lines.append(mail[i].split(\" \"))\n",
        "    # 단어 뭉치 생성\n",
        "    for word in lines[i]:\n",
        "        tokens.append(word)\n",
        "tokens = list(set(tokens))\n",
        "\n",
        "# 메일의 종류\n",
        "types = list(set(mail_type))\n",
        "\n",
        "lines, tokens, types"
      ],
      "execution_count": 2,
      "outputs": [
        {
          "output_type": "execute_result",
          "data": {
            "text/plain": [
              "([['me', 'free', 'lottery'],\n",
              "  ['free', 'get', 'free', 'you'],\n",
              "  ['you', 'free', 'scholarship'],\n",
              "  ['free', 'to', 'contact', 'me'],\n",
              "  ['you', 'won', 'award'],\n",
              "  ['you', 'ticket', 'lottery']],\n",
              " ['me',\n",
              "  'award',\n",
              "  'get',\n",
              "  'contact',\n",
              "  'ticket',\n",
              "  'won',\n",
              "  'you',\n",
              "  'free',\n",
              "  'lottery',\n",
              "  'scholarship',\n",
              "  'to'],\n",
              " ['spam', 'normal'])"
            ]
          },
          "metadata": {
            "tags": []
          },
          "execution_count": 2
        }
      ]
    },
    {
      "cell_type": "code",
      "metadata": {
        "id": "RC4rqj2I2If3",
        "colab_type": "code",
        "colab": {
          "base_uri": "https://localhost:8080/",
          "height": 225
        },
        "outputId": "5799f4d2-f6da-430c-83a4-78cda87cd7a3"
      },
      "source": [
        "# 메일 분류 확인\n",
        "import pandas as pd\n",
        "\n",
        "mail_classify = {\"메일\" : lines, \"분류\" : mail_type}\n",
        "df = pd.DataFrame(mail_classify)\n",
        "\n",
        "df"
      ],
      "execution_count": 3,
      "outputs": [
        {
          "output_type": "execute_result",
          "data": {
            "text/html": [
              "<div>\n",
              "<style scoped>\n",
              "    .dataframe tbody tr th:only-of-type {\n",
              "        vertical-align: middle;\n",
              "    }\n",
              "\n",
              "    .dataframe tbody tr th {\n",
              "        vertical-align: top;\n",
              "    }\n",
              "\n",
              "    .dataframe thead th {\n",
              "        text-align: right;\n",
              "    }\n",
              "</style>\n",
              "<table border=\"1\" class=\"dataframe\">\n",
              "  <thead>\n",
              "    <tr style=\"text-align: right;\">\n",
              "      <th></th>\n",
              "      <th>메일</th>\n",
              "      <th>분류</th>\n",
              "    </tr>\n",
              "  </thead>\n",
              "  <tbody>\n",
              "    <tr>\n",
              "      <th>0</th>\n",
              "      <td>[me, free, lottery]</td>\n",
              "      <td>spam</td>\n",
              "    </tr>\n",
              "    <tr>\n",
              "      <th>1</th>\n",
              "      <td>[free, get, free, you]</td>\n",
              "      <td>spam</td>\n",
              "    </tr>\n",
              "    <tr>\n",
              "      <th>2</th>\n",
              "      <td>[you, free, scholarship]</td>\n",
              "      <td>normal</td>\n",
              "    </tr>\n",
              "    <tr>\n",
              "      <th>3</th>\n",
              "      <td>[free, to, contact, me]</td>\n",
              "      <td>normal</td>\n",
              "    </tr>\n",
              "    <tr>\n",
              "      <th>4</th>\n",
              "      <td>[you, won, award]</td>\n",
              "      <td>normal</td>\n",
              "    </tr>\n",
              "    <tr>\n",
              "      <th>5</th>\n",
              "      <td>[you, ticket, lottery]</td>\n",
              "      <td>spam</td>\n",
              "    </tr>\n",
              "  </tbody>\n",
              "</table>\n",
              "</div>"
            ],
            "text/plain": [
              "                         메일      분류\n",
              "0       [me, free, lottery]    spam\n",
              "1    [free, get, free, you]    spam\n",
              "2  [you, free, scholarship]  normal\n",
              "3   [free, to, contact, me]  normal\n",
              "4         [you, won, award]  normal\n",
              "5    [you, ticket, lottery]    spam"
            ]
          },
          "metadata": {
            "tags": []
          },
          "execution_count": 3
        }
      ]
    },
    {
      "cell_type": "markdown",
      "metadata": {
        "id": "omF7fIFBHZf_",
        "colab_type": "text"
      },
      "source": [
        "### **1-2. 토큰별 분류**"
      ]
    },
    {
      "cell_type": "code",
      "metadata": {
        "id": "hkmIumoT2Jim",
        "colab_type": "code",
        "colab": {
          "base_uri": "https://localhost:8080/",
          "height": 373
        },
        "outputId": "c5c5c133-cc56-4e96-c0c3-a92a8d37274c"
      },
      "source": [
        "# 토큰별 분류 카운트\n",
        "import numpy as np\n",
        "\n",
        "type_matrix = []\n",
        "\n",
        "for tokens_idx in range(len(tokens)):\n",
        "    type_count = [0 for a in range(len(types))]\n",
        "    for type_idx in range(len(types)):\n",
        "        for line_idx, label in enumerate(mail_classify[\"분류\"]):\n",
        "            if label == types[type_idx]:\n",
        "                if tokens[tokens_idx] in lines[line_idx]:\n",
        "                    type_count[type_idx] += lines[line_idx].count(tokens[tokens_idx])\n",
        "    type_matrix.append(type_count)\n",
        "\n",
        "matrix_table = pd.DataFrame(type_matrix, index=tokens, columns=types)\n",
        "matrix_table"
      ],
      "execution_count": 4,
      "outputs": [
        {
          "output_type": "execute_result",
          "data": {
            "text/html": [
              "<div>\n",
              "<style scoped>\n",
              "    .dataframe tbody tr th:only-of-type {\n",
              "        vertical-align: middle;\n",
              "    }\n",
              "\n",
              "    .dataframe tbody tr th {\n",
              "        vertical-align: top;\n",
              "    }\n",
              "\n",
              "    .dataframe thead th {\n",
              "        text-align: right;\n",
              "    }\n",
              "</style>\n",
              "<table border=\"1\" class=\"dataframe\">\n",
              "  <thead>\n",
              "    <tr style=\"text-align: right;\">\n",
              "      <th></th>\n",
              "      <th>spam</th>\n",
              "      <th>normal</th>\n",
              "    </tr>\n",
              "  </thead>\n",
              "  <tbody>\n",
              "    <tr>\n",
              "      <th>me</th>\n",
              "      <td>1</td>\n",
              "      <td>1</td>\n",
              "    </tr>\n",
              "    <tr>\n",
              "      <th>award</th>\n",
              "      <td>0</td>\n",
              "      <td>1</td>\n",
              "    </tr>\n",
              "    <tr>\n",
              "      <th>get</th>\n",
              "      <td>1</td>\n",
              "      <td>0</td>\n",
              "    </tr>\n",
              "    <tr>\n",
              "      <th>contact</th>\n",
              "      <td>0</td>\n",
              "      <td>1</td>\n",
              "    </tr>\n",
              "    <tr>\n",
              "      <th>ticket</th>\n",
              "      <td>1</td>\n",
              "      <td>0</td>\n",
              "    </tr>\n",
              "    <tr>\n",
              "      <th>won</th>\n",
              "      <td>0</td>\n",
              "      <td>1</td>\n",
              "    </tr>\n",
              "    <tr>\n",
              "      <th>you</th>\n",
              "      <td>2</td>\n",
              "      <td>2</td>\n",
              "    </tr>\n",
              "    <tr>\n",
              "      <th>free</th>\n",
              "      <td>3</td>\n",
              "      <td>2</td>\n",
              "    </tr>\n",
              "    <tr>\n",
              "      <th>lottery</th>\n",
              "      <td>2</td>\n",
              "      <td>0</td>\n",
              "    </tr>\n",
              "    <tr>\n",
              "      <th>scholarship</th>\n",
              "      <td>0</td>\n",
              "      <td>1</td>\n",
              "    </tr>\n",
              "    <tr>\n",
              "      <th>to</th>\n",
              "      <td>0</td>\n",
              "      <td>1</td>\n",
              "    </tr>\n",
              "  </tbody>\n",
              "</table>\n",
              "</div>"
            ],
            "text/plain": [
              "             spam  normal\n",
              "me              1       1\n",
              "award           0       1\n",
              "get             1       0\n",
              "contact         0       1\n",
              "ticket          1       0\n",
              "won             0       1\n",
              "you             2       2\n",
              "free            3       2\n",
              "lottery         2       0\n",
              "scholarship     0       1\n",
              "to              0       1"
            ]
          },
          "metadata": {
            "tags": []
          },
          "execution_count": 4
        }
      ]
    },
    {
      "cell_type": "markdown",
      "metadata": {
        "id": "maJR50P5Hgt8",
        "colab_type": "text"
      },
      "source": [
        "### **1-3. 토큰별 확률 계산**"
      ]
    },
    {
      "cell_type": "code",
      "metadata": {
        "id": "x1-1ZBTl2K4b",
        "colab_type": "code",
        "colab": {
          "base_uri": "https://localhost:8080/",
          "height": 34
        },
        "outputId": "7a667f39-4d32-455e-ce1e-96c646ab4475"
      },
      "source": [
        "# 사전확률 계산\n",
        "prior_prob = []\n",
        "\n",
        "for type_idx in types:\n",
        "    count_type = 0\n",
        "    for i in range(len(lines)):\n",
        "        if type_idx == mail_classify['분류'][i]:\n",
        "            count_type += 1\n",
        "\n",
        "    prior_prob.append(count_type/len(lines))\n",
        "\n",
        "prior_prob, types"
      ],
      "execution_count": 5,
      "outputs": [
        {
          "output_type": "execute_result",
          "data": {
            "text/plain": [
              "([0.5, 0.5], ['spam', 'normal'])"
            ]
          },
          "metadata": {
            "tags": []
          },
          "execution_count": 5
        }
      ]
    },
    {
      "cell_type": "code",
      "metadata": {
        "id": "JadgBFHC2L1h",
        "colab_type": "code",
        "colab": {
          "base_uri": "https://localhost:8080/",
          "height": 228
        },
        "outputId": "521e586e-e40a-4387-af3b-737f543ec286"
      },
      "source": [
        "# Laplace Smoothing\n",
        "laplace = []\n",
        "k = 0.5\n",
        "\n",
        "for i in range(len(tokens)):\n",
        "    laplace_tmp = []\n",
        "    for j in range(len(types)):\n",
        "        laplace_tmp.append((k+type_matrix[i][j])/(2*k+matrix_table[types[j]].sum())*100)\n",
        "    laplace.append(laplace_tmp)\n",
        "\n",
        "laplace_type = [\"P(w|{})\".format(i) for i in types]\n",
        "laplace_type, laplace"
      ],
      "execution_count": 6,
      "outputs": [
        {
          "output_type": "execute_result",
          "data": {
            "text/plain": [
              "(['P(w|spam)', 'P(w|normal)'],\n",
              " [[13.636363636363635, 13.636363636363635],\n",
              "  [4.545454545454546, 13.636363636363635],\n",
              "  [13.636363636363635, 4.545454545454546],\n",
              "  [4.545454545454546, 13.636363636363635],\n",
              "  [13.636363636363635, 4.545454545454546],\n",
              "  [4.545454545454546, 13.636363636363635],\n",
              "  [22.727272727272727, 22.727272727272727],\n",
              "  [31.818181818181817, 22.727272727272727],\n",
              "  [22.727272727272727, 4.545454545454546],\n",
              "  [4.545454545454546, 13.636363636363635],\n",
              "  [4.545454545454546, 13.636363636363635]])"
            ]
          },
          "metadata": {
            "tags": []
          },
          "execution_count": 6
        }
      ]
    },
    {
      "cell_type": "code",
      "metadata": {
        "id": "RSPwEBdp2M0R",
        "colab_type": "code",
        "colab": {
          "base_uri": "https://localhost:8080/",
          "height": 228
        },
        "outputId": "0ac63ef2-4855-4842-f163-57b82bb5f0bc"
      },
      "source": [
        "# 로그 이용 언더 플로우\n",
        "log = []\n",
        "\n",
        "for i in range(len(tokens)):\n",
        "    log_tmp = []\n",
        "    for j in range(len(types)):\n",
        "        log_tmp.append(np.log(laplace[i][j]/100))\n",
        "    log.append(log_tmp)\n",
        "log_type = [\"Log(P(w|{}))\".format(i) for i in types]\n",
        "log_type, log"
      ],
      "execution_count": 7,
      "outputs": [
        {
          "output_type": "execute_result",
          "data": {
            "text/plain": [
              "(['Log(P(w|spam))', 'Log(P(w|normal))'],\n",
              " [[-1.9924301646902063, -1.9924301646902063],\n",
              "  [-3.0910424533583156, -1.9924301646902063],\n",
              "  [-1.9924301646902063, -3.0910424533583156],\n",
              "  [-3.0910424533583156, -1.9924301646902063],\n",
              "  [-1.9924301646902063, -3.0910424533583156],\n",
              "  [-3.0910424533583156, -1.9924301646902063],\n",
              "  [-1.4816045409242156, -1.4816045409242156],\n",
              "  [-1.1451323043030026, -1.4816045409242156],\n",
              "  [-1.4816045409242156, -3.0910424533583156],\n",
              "  [-3.0910424533583156, -1.9924301646902063],\n",
              "  [-3.0910424533583156, -1.9924301646902063]])"
            ]
          },
          "metadata": {
            "tags": []
          },
          "execution_count": 7
        }
      ]
    },
    {
      "cell_type": "code",
      "metadata": {
        "id": "cjY72dyS2N6X",
        "colab_type": "code",
        "colab": {
          "base_uri": "https://localhost:8080/",
          "height": 373
        },
        "outputId": "11d89801-61d1-4545-a3cc-e436702510cf"
      },
      "source": [
        "df = pd.concat((pd.DataFrame(type_matrix, index=tokens, columns=types), pd.DataFrame(laplace, index=tokens, columns=laplace_type), pd.DataFrame(log, index=tokens, columns=log_type)), axis=1)\n",
        "df"
      ],
      "execution_count": 8,
      "outputs": [
        {
          "output_type": "execute_result",
          "data": {
            "text/html": [
              "<div>\n",
              "<style scoped>\n",
              "    .dataframe tbody tr th:only-of-type {\n",
              "        vertical-align: middle;\n",
              "    }\n",
              "\n",
              "    .dataframe tbody tr th {\n",
              "        vertical-align: top;\n",
              "    }\n",
              "\n",
              "    .dataframe thead th {\n",
              "        text-align: right;\n",
              "    }\n",
              "</style>\n",
              "<table border=\"1\" class=\"dataframe\">\n",
              "  <thead>\n",
              "    <tr style=\"text-align: right;\">\n",
              "      <th></th>\n",
              "      <th>spam</th>\n",
              "      <th>normal</th>\n",
              "      <th>P(w|spam)</th>\n",
              "      <th>P(w|normal)</th>\n",
              "      <th>Log(P(w|spam))</th>\n",
              "      <th>Log(P(w|normal))</th>\n",
              "    </tr>\n",
              "  </thead>\n",
              "  <tbody>\n",
              "    <tr>\n",
              "      <th>me</th>\n",
              "      <td>1</td>\n",
              "      <td>1</td>\n",
              "      <td>13.636364</td>\n",
              "      <td>13.636364</td>\n",
              "      <td>-1.992430</td>\n",
              "      <td>-1.992430</td>\n",
              "    </tr>\n",
              "    <tr>\n",
              "      <th>award</th>\n",
              "      <td>0</td>\n",
              "      <td>1</td>\n",
              "      <td>4.545455</td>\n",
              "      <td>13.636364</td>\n",
              "      <td>-3.091042</td>\n",
              "      <td>-1.992430</td>\n",
              "    </tr>\n",
              "    <tr>\n",
              "      <th>get</th>\n",
              "      <td>1</td>\n",
              "      <td>0</td>\n",
              "      <td>13.636364</td>\n",
              "      <td>4.545455</td>\n",
              "      <td>-1.992430</td>\n",
              "      <td>-3.091042</td>\n",
              "    </tr>\n",
              "    <tr>\n",
              "      <th>contact</th>\n",
              "      <td>0</td>\n",
              "      <td>1</td>\n",
              "      <td>4.545455</td>\n",
              "      <td>13.636364</td>\n",
              "      <td>-3.091042</td>\n",
              "      <td>-1.992430</td>\n",
              "    </tr>\n",
              "    <tr>\n",
              "      <th>ticket</th>\n",
              "      <td>1</td>\n",
              "      <td>0</td>\n",
              "      <td>13.636364</td>\n",
              "      <td>4.545455</td>\n",
              "      <td>-1.992430</td>\n",
              "      <td>-3.091042</td>\n",
              "    </tr>\n",
              "    <tr>\n",
              "      <th>won</th>\n",
              "      <td>0</td>\n",
              "      <td>1</td>\n",
              "      <td>4.545455</td>\n",
              "      <td>13.636364</td>\n",
              "      <td>-3.091042</td>\n",
              "      <td>-1.992430</td>\n",
              "    </tr>\n",
              "    <tr>\n",
              "      <th>you</th>\n",
              "      <td>2</td>\n",
              "      <td>2</td>\n",
              "      <td>22.727273</td>\n",
              "      <td>22.727273</td>\n",
              "      <td>-1.481605</td>\n",
              "      <td>-1.481605</td>\n",
              "    </tr>\n",
              "    <tr>\n",
              "      <th>free</th>\n",
              "      <td>3</td>\n",
              "      <td>2</td>\n",
              "      <td>31.818182</td>\n",
              "      <td>22.727273</td>\n",
              "      <td>-1.145132</td>\n",
              "      <td>-1.481605</td>\n",
              "    </tr>\n",
              "    <tr>\n",
              "      <th>lottery</th>\n",
              "      <td>2</td>\n",
              "      <td>0</td>\n",
              "      <td>22.727273</td>\n",
              "      <td>4.545455</td>\n",
              "      <td>-1.481605</td>\n",
              "      <td>-3.091042</td>\n",
              "    </tr>\n",
              "    <tr>\n",
              "      <th>scholarship</th>\n",
              "      <td>0</td>\n",
              "      <td>1</td>\n",
              "      <td>4.545455</td>\n",
              "      <td>13.636364</td>\n",
              "      <td>-3.091042</td>\n",
              "      <td>-1.992430</td>\n",
              "    </tr>\n",
              "    <tr>\n",
              "      <th>to</th>\n",
              "      <td>0</td>\n",
              "      <td>1</td>\n",
              "      <td>4.545455</td>\n",
              "      <td>13.636364</td>\n",
              "      <td>-3.091042</td>\n",
              "      <td>-1.992430</td>\n",
              "    </tr>\n",
              "  </tbody>\n",
              "</table>\n",
              "</div>"
            ],
            "text/plain": [
              "             spam  normal  ...  Log(P(w|spam))  Log(P(w|normal))\n",
              "me              1       1  ...       -1.992430         -1.992430\n",
              "award           0       1  ...       -3.091042         -1.992430\n",
              "get             1       0  ...       -1.992430         -3.091042\n",
              "contact         0       1  ...       -3.091042         -1.992430\n",
              "ticket          1       0  ...       -1.992430         -3.091042\n",
              "won             0       1  ...       -3.091042         -1.992430\n",
              "you             2       2  ...       -1.481605         -1.481605\n",
              "free            3       2  ...       -1.145132         -1.481605\n",
              "lottery         2       0  ...       -1.481605         -3.091042\n",
              "scholarship     0       1  ...       -3.091042         -1.992430\n",
              "to              0       1  ...       -3.091042         -1.992430\n",
              "\n",
              "[11 rows x 6 columns]"
            ]
          },
          "metadata": {
            "tags": []
          },
          "execution_count": 8
        }
      ]
    },
    {
      "cell_type": "markdown",
      "metadata": {
        "id": "0C3YwehZHm2C",
        "colab_type": "text"
      },
      "source": [
        "### **1-4. 입력 데이터 처리**"
      ]
    },
    {
      "cell_type": "code",
      "metadata": {
        "id": "-hSpSzGA2O7E",
        "colab_type": "code",
        "colab": {
          "base_uri": "https://localhost:8080/",
          "height": 34
        },
        "outputId": "3cd0bb3e-2633-4d50-8a6c-e3f356637686"
      },
      "source": [
        "# 스팸 필터링 : 입력값\n",
        "check_list = \"free lottery\"\n",
        "\n",
        "check_token = []\n",
        "\n",
        "check_token.append(check_list.split(\" \"))\n",
        "\n",
        "check_token"
      ],
      "execution_count": 9,
      "outputs": [
        {
          "output_type": "execute_result",
          "data": {
            "text/plain": [
              "[['free', 'lottery']]"
            ]
          },
          "metadata": {
            "tags": []
          },
          "execution_count": 9
        }
      ]
    },
    {
      "cell_type": "code",
      "metadata": {
        "id": "_etSSZEN2QLl",
        "colab_type": "code",
        "colab": {
          "base_uri": "https://localhost:8080/",
          "height": 52
        },
        "outputId": "4d5b3b78-4c45-4c3f-ae86-ce43dc35598a"
      },
      "source": [
        "# 입력 토큰 로그들의 합\n",
        "import math\n",
        "\n",
        "filter = []\n",
        "tmp = []\n",
        "for i in range(len(check_token[0])):\n",
        "    tmp.append(df[df.index==check_token[0][i]][(\"Log(P(w|{}))\".format(i) for i in types)].sum())\n",
        "\n",
        "for i in range(len(types)):\n",
        "    filter.append(math.exp(sum(tmp[i]) + np.log(prior_prob[i])))\n",
        "\n",
        "prob = []\n",
        "\n",
        "for i in range(len(types)):\n",
        "    prob.append(filter[i] / sum(filter))\n",
        "\n",
        "filter, prob"
      ],
      "execution_count": 10,
      "outputs": [
        {
          "output_type": "execute_result",
          "data": {
            "text/plain": [
              "([0.03615702479338842, 0.00516528925619835],\n",
              " [0.8749999999999999, 0.12500000000000008])"
            ]
          },
          "metadata": {
            "tags": []
          },
          "execution_count": 10
        }
      ]
    },
    {
      "cell_type": "markdown",
      "metadata": {
        "id": "-pItko9eHqYU",
        "colab_type": "text"
      },
      "source": [
        "### **1-5. 최종 결과**"
      ]
    },
    {
      "cell_type": "code",
      "metadata": {
        "id": "8p2XrRjb2TfR",
        "colab_type": "code",
        "colab": {
          "base_uri": "https://localhost:8080/",
          "height": 52
        },
        "outputId": "78f2d3b3-7098-4097-e53f-65a784746661"
      },
      "source": [
        "for i in range(len(check_token[0])):\n",
        "    print(\"{}라는 토큰이 있는 메일이 스팸일 확률 : {:.2f}%\".format(check_token[0][i], prob[i]*100))"
      ],
      "execution_count": 11,
      "outputs": [
        {
          "output_type": "stream",
          "text": [
            "free라는 토큰이 있는 메일이 스팸일 확률 : 87.50%\n",
            "lottery라는 토큰이 있는 메일이 스팸일 확률 : 12.50%\n"
          ],
          "name": "stdout"
        }
      ]
    },
    {
      "cell_type": "markdown",
      "metadata": {
        "id": "1mQm2aLCHuzO",
        "colab_type": "text"
      },
      "source": [
        "## **2. Naive Bayes Classifier 다중 분류 Class화**\n",
        "**메일 필터링**"
      ]
    },
    {
      "cell_type": "markdown",
      "metadata": {
        "id": "iLhPG_MrOV59",
        "colab_type": "text"
      },
      "source": [
        "### **2-1. Naive Bayes Multi Classifier Class**"
      ]
    },
    {
      "cell_type": "code",
      "metadata": {
        "id": "Yy3iJgHQHwqH",
        "colab_type": "code",
        "colab": {}
      },
      "source": [
        "import pandas as pd\n",
        "import numpy as np\n",
        "import math\n",
        "\n",
        "class multi_nbc():\n",
        "    def __init__(self):\n",
        "        self.lines = []\n",
        "        self.tokens = []\n",
        "        self.types = []\n",
        "        self.type_matrix = []\n",
        "        self.matrix_table = []\n",
        "        self.prior_prob = []\n",
        "        self.laplace = []\n",
        "        self.log = []\n",
        "        self.token_matirx = []\n",
        "        self.check_token = []\n",
        "        self.prob = []\n",
        "    \n",
        "    # 각 문장 토큰화\n",
        "    def classify_mail(self, mail, mail_type):\n",
        "        BagOfWords = []\n",
        "        for i in range(len(mail)):\n",
        "            self.lines.append(mail[i].split(\" \"))\n",
        "            # 단어 뭉치 생성\n",
        "            for word in self.lines[i]:\n",
        "                BagOfWords.append(word)\n",
        "        self.tokens = list(set(BagOfWords))\n",
        "        # 메일의 종류\n",
        "        self.types = list(set(mail_type))\n",
        "        # 메일 분류 확인\n",
        "        self.mail_classify = {\"메일\" : self.lines, \"분류\" : mail_type}\n",
        "        \n",
        "        return self.lines, self.tokens, self.types, self.mail_classify\n",
        "\n",
        "    # 토큰별 분류 카운트\n",
        "    def count_matrix(self):\n",
        "        for i in range(len(self.tokens)):\n",
        "            type_count = [0 for a in range(len(self.types))]\n",
        "            for j in range(len(self.types)):\n",
        "                for l, label in enumerate(self.mail_classify[\"분류\"]):\n",
        "                    if label == self.types[j]:\n",
        "                        if self.tokens[i] in self.lines[l]:\n",
        "                            type_count[j] += self.lines[l].count(self.tokens[i])\n",
        "            self.type_matrix.append(type_count)\n",
        "            \n",
        "        self.matrix_table = pd.DataFrame(self.type_matrix, index=self.tokens, columns=self.types)\n",
        "\n",
        "        return self.type_matrix, self.matrix_table\n",
        "    \n",
        "    # 사전확률 계산\n",
        "    def cal_prior(self):\n",
        "        for type_idx in self.types:\n",
        "            count_type = 0\n",
        "            for i in range(len(self.lines)):\n",
        "                if type_idx == self.mail_classify['분류'][i]:\n",
        "                    count_type += 1\n",
        "            self.prior_prob.append(count_type/len(self.lines))\n",
        "\n",
        "        return self.prior_prob\n",
        "\n",
        "    # Laplace Smoothing\n",
        "    def cal_laplace(self, k):\n",
        "        for i in range(len(self.tokens)):\n",
        "            laplace_tmp = []\n",
        "            for j in range(len(self.types)):\n",
        "                laplace_tmp.append((k+self.type_matrix[i][j])/(2*k+self.matrix_table[self.types[j]].sum())*100)\n",
        "            self.laplace.append(laplace_tmp)\n",
        "        laplace_type = [\"P(w|{})\".format(i) for i in self.types]\n",
        "\n",
        "        # 로그 이용 언더 플로우\n",
        "        for i in range(len(self.tokens)):\n",
        "            log_tmp = []\n",
        "            for j in range(len(self.types)):\n",
        "                log_tmp.append(np.log(self.laplace[i][j]/100))\n",
        "            self.log.append(log_tmp)\n",
        "        log_type = [\"Log(P(w|{}))\".format(i) for i in self.types]\n",
        "        \n",
        "        # 최종 매트릭스\n",
        "        self.token_matrix = pd.concat((pd.DataFrame(self.type_matrix, index=self.tokens, columns=self.types),\n",
        "                                       pd.DataFrame(self.laplace, index=self.tokens, columns=laplace_type),\n",
        "                                       pd.DataFrame(self.log, index=self.tokens, columns=log_type)), axis=1)\n",
        "        \n",
        "        return self.token_matrix.sort_index(axis=0)\n",
        "\n",
        "    # 스팸 필터링 : 입력값\n",
        "    def input_check(self, check_list): # 해당 코드를 좀 더 직관적으로 풀어 쓸 수 있는 방안을 고려해봐야할 듯\n",
        "        self.check_token.append(check_list.split(\" \"))\n",
        "        # 입력 토큰 로그 합\n",
        "        filter = []\n",
        "        filter_tmp = []\n",
        "        for c in range(len(self.check_token[0])):\n",
        "            filter_tmp.append(self.token_matrix[self.token_matrix.index==self.check_token[0][c]][(\"Log(P(w|{}))\".format(t) for t in self.types)].sum())\n",
        "        # 입력 토큰 로그합\n",
        "        filter = [0 for a in range(len(self.types))]\n",
        "        for c in range(len(self.check_token[0])):\n",
        "            for t in range(len(self.types)):\n",
        "                filter[t] += filter_tmp[c][t]\n",
        "        # 입력 토큰 로그합과 사전확률 로그의 합\n",
        "        for t in range(len(self.types)):\n",
        "            filter[t] = math.exp(filter[t] + np.log(self.prior_prob[t]))\n",
        "        #각 토큰별 확률 계산\n",
        "        for t in range(len(self.types)):\n",
        "            self.prob.append(filter[t] / sum(filter))\n",
        "\n",
        "        return self.check_token, self.prob\n",
        "    \n",
        "    # 최종 결과값\n",
        "    def nbc_result(self):\n",
        "        if len(self.check_token[0]) >= len(self.types):\n",
        "            for c in range(len(self.check_token[0])):\n",
        "                print(\"{}라는 토큰이 있는 메일이 {}일 확률 : {:.2f}%\".format(self.check_token[0], self.types[c], self.prob[c]*100))\n",
        "        \n",
        "        elif len(self.check_token[0]) < len(self.types):\n",
        "            for i in range(len(self.types)):\n",
        "                print(\"{}라는 토큰이 있는 메일이 {}일 확률 : {:.2f}%\".format(self.check_token[0], self.types[i], self.prob[i]*100))\n",
        "\n",
        "    # 자동 실행\n",
        "    def run(self, mail, mail_type, k, check_list):\n",
        "        self.classify_mail(mail, mail_type)\n",
        "        self.count_matrix()\n",
        "        self.cal_prior()\n",
        "        self.cal_laplace(k)\n",
        "        self.input_check(check_list)\n",
        "        self.nbc_result()"
      ],
      "execution_count": 12,
      "outputs": []
    },
    {
      "cell_type": "markdown",
      "metadata": {
        "id": "1vgfjevgOThJ",
        "colab_type": "text"
      },
      "source": [
        "### **2-2. 결과 확인**\n"
      ]
    },
    {
      "cell_type": "code",
      "metadata": {
        "id": "ruJTXwGSOPUM",
        "colab_type": "code",
        "colab": {}
      },
      "source": [
        "# 메일과 메일의 종류 데이터\n",
        "mail = ['I love you',\n",
        "        'love happy weekend',\n",
        "        'bore work job',\n",
        "        'I hate you',\n",
        "        'bore weekend',\n",
        "        'happy together',\n",
        "        'normal day']\n",
        "\n",
        "mail_type = [\"긍정\", \"긍정\", \"부정\", \"부정\", \"부정\", \"긍정\", \"중립\"]\n",
        "\n",
        "check_list = \"happy weekend bore\""
      ],
      "execution_count": 13,
      "outputs": []
    },
    {
      "cell_type": "code",
      "metadata": {
        "id": "20d2KUa5OgZk",
        "colab_type": "code",
        "colab": {}
      },
      "source": [
        "mnbc = multi_nbc()"
      ],
      "execution_count": 14,
      "outputs": []
    },
    {
      "cell_type": "code",
      "metadata": {
        "id": "IEb1pJ4t-j84",
        "colab_type": "code",
        "colab": {
          "base_uri": "https://localhost:8080/",
          "height": 70
        },
        "outputId": "606370b4-06c2-45a5-a412-a91574b47955"
      },
      "source": [
        "mnbc.run(mail, mail_type, 0.5, check_list)"
      ],
      "execution_count": 15,
      "outputs": [
        {
          "output_type": "stream",
          "text": [
            "['happy', 'weekend', 'bore']라는 토큰이 있는 메일이 중립일 확률 : 23.08%\n",
            "['happy', 'weekend', 'bore']라는 토큰이 있는 메일이 부정일 확률 : 38.46%\n",
            "['happy', 'weekend', 'bore']라는 토큰이 있는 메일이 긍정일 확률 : 38.46%\n"
          ],
          "name": "stdout"
        }
      ]
    },
    {
      "cell_type": "code",
      "metadata": {
        "id": "nT7ARCmdMixe",
        "colab_type": "code",
        "colab": {}
      },
      "source": [
        ""
      ],
      "execution_count": 23,
      "outputs": []
    }
  ]
}