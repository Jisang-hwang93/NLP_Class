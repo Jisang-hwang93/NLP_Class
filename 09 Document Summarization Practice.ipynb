{
  "nbformat": 4,
  "nbformat_minor": 0,
  "metadata": {
    "colab": {
      "name": "09 Document Summarization Practice.ipynb",
      "provenance": [],
      "collapsed_sections": [],
      "authorship_tag": "ABX9TyOJkqYRpkvSKXk1Lo5oIsHW",
      "include_colab_link": true
    },
    "kernelspec": {
      "name": "python3",
      "display_name": "Python 3"
    },
    "accelerator": "GPU"
  },
  "cells": [
    {
      "cell_type": "markdown",
      "metadata": {
        "id": "view-in-github",
        "colab_type": "text"
      },
      "source": [
        "<a href=\"https://colab.research.google.com/github/Jisang-hwang93/NLP_Class/blob/master/09%20Document%20Summarization%20Practice.ipynb\" target=\"_parent\"><img src=\"https://colab.research.google.com/assets/colab-badge.svg\" alt=\"Open In Colab\"/></a>"
      ]
    },
    {
      "cell_type": "markdown",
      "metadata": {
        "id": "Nyczn-rN581N",
        "colab_type": "text"
      },
      "source": [
        "# **Document Summarization**"
      ]
    },
    {
      "cell_type": "markdown",
      "metadata": {
        "id": "J3bUGO775SRG",
        "colab_type": "text"
      },
      "source": [
        "## **1. konlpy 다운로드**"
      ]
    },
    {
      "cell_type": "code",
      "metadata": {
        "id": "WJ8_ywRHuWG8",
        "colab_type": "code",
        "colab": {}
      },
      "source": [
        "# !sudo apt-get install g++ openjdk-7-jdk # Install Java 1.7+\n",
        "# !sudo apt-get install python-dev; pip install konlpy     # Python 2.x\n",
        "# !sudo apt-get install python3-dev; pip3 install konlpy   # Python 3.x\n",
        "# !sudo apt-get install curl\n",
        "# !bash <(curl -s https://raw.githubusercontent.com/konlpy/konlpy/master/scripts/mecab.sh)"
      ],
      "execution_count": 45,
      "outputs": []
    },
    {
      "cell_type": "markdown",
      "metadata": {
        "id": "T4W0QJPR6FkY",
        "colab_type": "text"
      },
      "source": [
        "## **2. Text Rank : 문서 요약 구현**"
      ]
    },
    {
      "cell_type": "code",
      "metadata": {
        "id": "K5SurI2Z6SKC",
        "colab_type": "code",
        "colab": {}
      },
      "source": [
        "# 예시 문서\n",
        "docs = [\"딸기 바나나 사과 파인애플 수박\",\n",
        "        \"바나나 사과 딸기 포도\",\n",
        "        \"복숭아 수박\",\n",
        "        \"파인애플 사과 딸기 바나나\"]"
      ],
      "execution_count": 46,
      "outputs": []
    },
    {
      "cell_type": "code",
      "metadata": {
        "id": "ow2u8T275fEY",
        "colab_type": "code",
        "colab": {
          "base_uri": "https://localhost:8080/",
          "height": 158
        },
        "outputId": "82ee5294-1ff1-4480-fa94-db550e480ca8"
      },
      "source": [
        "from konlpy.tag import Mecab\n",
        "\n",
        "import numpy as np\n",
        "import math\n",
        "import networkx as nx\n",
        "\n",
        "mecab = Mecab()\n",
        "\n",
        "# 토큰화\n",
        "tokens = []\n",
        "for line in docs:\n",
        "    tokens.append([token for token in mecab.pos(line)])\n",
        "\n",
        "tokens"
      ],
      "execution_count": 47,
      "outputs": [
        {
          "output_type": "execute_result",
          "data": {
            "text/plain": [
              "[[('딸기', 'NNG'),\n",
              "  ('바나나', 'NNG'),\n",
              "  ('사과', 'NNG'),\n",
              "  ('파인애플', 'NNG'),\n",
              "  ('수박', 'NNG')],\n",
              " [('바나나', 'NNG'), ('사과', 'NNG'), ('딸기', 'NNG'), ('포도', 'NNG')],\n",
              " [('복숭아', 'NNG'), ('수박', 'NNG')],\n",
              " [('파인애플', 'NNG'), ('사과', 'NNG'), ('딸기', 'NNG'), ('바나나', 'NNG')]]"
            ]
          },
          "metadata": {
            "tags": []
          },
          "execution_count": 47
        }
      ]
    },
    {
      "cell_type": "code",
      "metadata": {
        "id": "7ULZYaUg6ZQf",
        "colab_type": "code",
        "colab": {
          "base_uri": "https://localhost:8080/",
          "height": 87
        },
        "outputId": "29111c5e-428b-4bef-98c2-d836c67e5c71"
      },
      "source": [
        "# 초기 세팅값\n",
        "first_matrix = [[0*i]*len(docs) for i in range(len(docs))]\n",
        "\n",
        "for i in range(len(docs)-1):\n",
        "    for j in range(i+1, len(docs)):\n",
        "        union = set(tokens[i]).union(set(tokens[j]))\n",
        "        intersection = set(tokens[i]).intersection(set(tokens[j]))\n",
        "        first_matrix[i][j] = len(intersection)/len(union)\n",
        "        first_matrix[j][i] = len(intersection)/len(union)\n",
        "\n",
        "first_matrix"
      ],
      "execution_count": 48,
      "outputs": [
        {
          "output_type": "execute_result",
          "data": {
            "text/plain": [
              "[[0, 0.5, 0.16666666666666666, 0.8],\n",
              " [0.5, 0, 0.0, 0.6],\n",
              " [0.16666666666666666, 0.0, 0, 0.0],\n",
              " [0.8, 0.6, 0.0, 0]]"
            ]
          },
          "metadata": {
            "tags": []
          },
          "execution_count": 48
        }
      ]
    },
    {
      "cell_type": "code",
      "metadata": {
        "id": "XbSqqnNv6hZ4",
        "colab_type": "code",
        "colab": {
          "base_uri": "https://localhost:8080/",
          "height": 34
        },
        "outputId": "a18bc5a4-4402-42df-911e-85d7b4180a25"
      },
      "source": [
        "# 첫 스코어\n",
        "first_score = [0] * len(docs)\n",
        "for i in range(len(first_matrix)):\n",
        "    for j in range(len(first_matrix[i])):\n",
        "        first_score[i] += first_matrix[i][j]\n",
        "\n",
        "first_score"
      ],
      "execution_count": 49,
      "outputs": [
        {
          "output_type": "execute_result",
          "data": {
            "text/plain": [
              "[1.4666666666666668, 1.1, 0.16666666666666666, 1.4]"
            ]
          },
          "metadata": {
            "tags": []
          },
          "execution_count": 49
        }
      ]
    },
    {
      "cell_type": "code",
      "metadata": {
        "id": "LMaza1Ez6hSb",
        "colab_type": "code",
        "colab": {
          "base_uri": "https://localhost:8080/",
          "height": 87
        },
        "outputId": "eb328b71-dff8-4469-ee54-0c338b47c7aa"
      },
      "source": [
        "# 가중치 행렬\n",
        "weight_matrix = [[0*i]*len(docs) for i in range(len(docs))]\n",
        "for i in range(len(weight_matrix)):\n",
        "    for j in range(len(weight_matrix[i])):\n",
        "        weight_matrix[i][j] = first_matrix[i][j] / first_score[i]\n",
        "\n",
        "weight_matrix"
      ],
      "execution_count": 50,
      "outputs": [
        {
          "output_type": "execute_result",
          "data": {
            "text/plain": [
              "[[0.0, 0.3409090909090909, 0.11363636363636362, 0.5454545454545454],\n",
              " [0.45454545454545453, 0.0, 0.0, 0.5454545454545454],\n",
              " [1.0, 0.0, 0.0, 0.0],\n",
              " [0.5714285714285715, 0.4285714285714286, 0.0, 0.0]]"
            ]
          },
          "metadata": {
            "tags": []
          },
          "execution_count": 50
        }
      ]
    },
    {
      "cell_type": "code",
      "metadata": {
        "id": "BA_xphWJ69r_",
        "colab_type": "code",
        "colab": {}
      },
      "source": [
        "# 스코어 갱신 함수\n",
        "def cal_score(matrix):\n",
        "    score_sum = [0] * len(docs)\n",
        "    for i in range(len(matrix)):\n",
        "        for j in range(len(matrix[i])):\n",
        "            score_sum[i] += matrix[j][i] * 0.85 # Damping Factor = 0.85\n",
        "        score_sum[i] = score_sum[i] + 0.15\n",
        "    return score_sum"
      ],
      "execution_count": 51,
      "outputs": []
    },
    {
      "cell_type": "code",
      "metadata": {
        "id": "XqTY-EYr7tLW",
        "colab_type": "code",
        "colab": {}
      },
      "source": [
        "# 행렬 갱신 함수\n",
        "def make_new(matrix):\n",
        "    new_matrix = [[0*i]*len(docs) for i in range(len(docs))]\n",
        "    for i in range(len(new_matrix)):\n",
        "        for j in range(len(new_matrix[i])):\n",
        "            new_matrix[i][j] = weight_matrix[i][j] * cal_score(matrix)[i]\n",
        "    return new_matrix"
      ],
      "execution_count": 52,
      "outputs": []
    },
    {
      "cell_type": "code",
      "metadata": {
        "id": "yyN-G3JK75Qf",
        "colab_type": "code",
        "colab": {
          "base_uri": "https://localhost:8080/",
          "height": 580
        },
        "outputId": "c1116b3a-49ed-4903-90a4-a69e1e90343b"
      },
      "source": [
        "# 반복 확인\n",
        "matrix1 = make_new(first_matrix)\n",
        "matrix2 = make_new(matrix1)\n",
        "matrix3 = make_new(matrix2)\n",
        "matrix4 = make_new(matrix3)\n",
        "matrix5 = make_new(matrix4)\n",
        "matrix6 = make_new(matrix5)\n",
        "matrix7 = make_new(matrix6)\n",
        "\n",
        "np.array(first_matrix), np.array(matrix1), np.array(matrix2), np.array(matrix3), np.array(matrix4), np.array(matrix5), np.array(matrix6), np.array(matrix7)"
      ],
      "execution_count": 53,
      "outputs": [
        {
          "output_type": "execute_result",
          "data": {
            "text/plain": [
              "(array([[0.        , 0.5       , 0.16666667, 0.8       ],\n",
              "        [0.5       , 0.        , 0.        , 0.6       ],\n",
              "        [0.16666667, 0.        , 0.        , 0.        ],\n",
              "        [0.8       , 0.6       , 0.        , 0.        ]]),\n",
              " array([[0.        , 0.47613636, 0.15871212, 0.76181818],\n",
              "        [0.49318182, 0.        , 0.        , 0.59181818],\n",
              "        [0.29166667, 0.        , 0.        , 0.        ],\n",
              "        [0.76571429, 0.57428571, 0.        , 0.        ]]),\n",
              " array([[0.        , 0.50044717, 0.16681572, 0.80071547],\n",
              "        [0.47402671, 0.        , 0.        , 0.56883205],\n",
              "        [0.2849053 , 0.        , 0.        , 0.        ],\n",
              "        [0.74319481, 0.5573961 , 0.        , 0.        ]]),\n",
              " array([[0.        , 0.48641175, 0.16213725, 0.7782588 ],\n",
              "        [0.47689399, 0.        , 0.        , 0.57227279],\n",
              "        [0.29179336, 0.        , 0.        , 0.        ],\n",
              "        [0.75092308, 0.56319231, 0.        , 0.        ]]),\n",
              " array([[0.        , 0.49147802, 0.16382601, 0.78636484],\n",
              "        [0.47371066, 0.        , 0.        , 0.56845279],\n",
              "        [0.28781666, 0.        , 0.        , 0.        ],\n",
              "        [0.74168677, 0.55626508, 0.        , 0.        ]]),\n",
              " array([[0.        , 0.48672681, 0.16224227, 0.7787629 ],\n",
              "        [0.47299165, 0.        , 0.        , 0.56758998],\n",
              "        [0.28925211, 0.        , 0.        , 0.        ],\n",
              "        [0.74376856, 0.55782642, 0.        , 0.        ]]),\n",
              " array([[0.        , 0.48753766, 0.16251255, 0.78006026],\n",
              "        [0.4717592 , 0.        , 0.        , 0.56611104],\n",
              "        [0.28790593, 0.        , 0.        , 0.        ],\n",
              "        [0.73965711, 0.55474284, 0.        , 0.        ]]),\n",
              " array([[0.        , 0.48559906, 0.16186635, 0.7769585 ],\n",
              "        [0.4708811 , 0.        , 0.        , 0.56505732],\n",
              "        [0.28813567, 0.        , 0.        , 0.        ],\n",
              "        [0.73956892, 0.55467669, 0.        , 0.        ]]))"
            ]
          },
          "metadata": {
            "tags": []
          },
          "execution_count": 53
        }
      ]
    },
    {
      "cell_type": "code",
      "metadata": {
        "id": "9-yXMHAfOI4o",
        "colab_type": "code",
        "colab": {
          "base_uri": "https://localhost:8080/",
          "height": 166
        },
        "outputId": "2346d55b-2958-4664-d04f-3b781e81f979"
      },
      "source": [
        "# 스코어 확인\n",
        "import pandas as pd\n",
        "pd.DataFrame(cal_score(matrix6), index=[\"문장1\", \"문장2\", \"문장3\", \"문장4\"], columns=[\"score\"])"
      ],
      "execution_count": 54,
      "outputs": [
        {
          "output_type": "execute_result",
          "data": {
            "text/html": [
              "<div>\n",
              "<style scoped>\n",
              "    .dataframe tbody tr th:only-of-type {\n",
              "        vertical-align: middle;\n",
              "    }\n",
              "\n",
              "    .dataframe tbody tr th {\n",
              "        vertical-align: top;\n",
              "    }\n",
              "\n",
              "    .dataframe thead th {\n",
              "        text-align: right;\n",
              "    }\n",
              "</style>\n",
              "<table border=\"1\" class=\"dataframe\">\n",
              "  <thead>\n",
              "    <tr style=\"text-align: right;\">\n",
              "      <th></th>\n",
              "      <th>score</th>\n",
              "    </tr>\n",
              "  </thead>\n",
              "  <tbody>\n",
              "    <tr>\n",
              "      <th>문장1</th>\n",
              "      <td>1.424424</td>\n",
              "    </tr>\n",
              "    <tr>\n",
              "      <th>문장2</th>\n",
              "      <td>1.035938</td>\n",
              "    </tr>\n",
              "    <tr>\n",
              "      <th>문장3</th>\n",
              "      <td>0.288136</td>\n",
              "    </tr>\n",
              "    <tr>\n",
              "      <th>문장4</th>\n",
              "      <td>1.294246</td>\n",
              "    </tr>\n",
              "  </tbody>\n",
              "</table>\n",
              "</div>"
            ],
            "text/plain": [
              "        score\n",
              "문장1  1.424424\n",
              "문장2  1.035938\n",
              "문장3  0.288136\n",
              "문장4  1.294246"
            ]
          },
          "metadata": {
            "tags": []
          },
          "execution_count": 54
        }
      ]
    },
    {
      "cell_type": "markdown",
      "metadata": {
        "id": "I_gq_r_N9cq4",
        "colab_type": "text"
      },
      "source": [
        "## **3. Class로 구현**"
      ]
    },
    {
      "cell_type": "code",
      "metadata": {
        "id": "xtY_16gBs44f",
        "colab_type": "code",
        "colab": {}
      },
      "source": [
        "from konlpy.tag import Mecab\n",
        "\n",
        "import numpy as np\n",
        "import pandas as pd\n",
        "import networkx as nx\n",
        "import math\n",
        "\n",
        "mecab = Mecab()\n",
        "\n",
        "class summarization():\n",
        "    def __init__(self, docs):\n",
        "        self.tokens = []\n",
        "        self.first_matrix = []\n",
        "        self.first_score = []\n",
        "        self.weight_matrix = []\n",
        "        self.docs = docs\n",
        "        self.score_sum = 0\n",
        "    \n",
        "    # 토큰화\n",
        "    def make_token(self):\n",
        "        for line in self.docs:\n",
        "            self.tokens.append([token for token in mecab.pos(line)])\n",
        "        return self.tokens\n",
        "\n",
        "    # 초기 세팅값\n",
        "    def make_first(self):\n",
        "        self.first_matrix = [[0*i]*len(self.docs) for i in range(len(self.docs))]\n",
        "        for i in range(len(self.docs)-1):\n",
        "            for j in range(i+1, len(self.docs)):\n",
        "                union = set(self.tokens[i]).union(set(self.tokens[j]))\n",
        "                intersection = set(self.tokens[i]).intersection(set(self.tokens[j]))\n",
        "                self.first_matrix[i][j] = len(intersection)/len(union)\n",
        "                self.first_matrix[j][i] = len(intersection)/len(union)\n",
        "        return self.first_matrix\n",
        "\n",
        "    # 최초 스코어 계산\n",
        "    def First_Score(self):\n",
        "        self.first_score = [0] * len(docs)\n",
        "        for i in range(len(self.first_matrix)):\n",
        "            for j in range(len(self.first_matrix[i])):\n",
        "                self.first_score[i] += self.first_matrix[i][j]\n",
        "        return self.first_score\n",
        "\n",
        "    # 가중치 행렬\n",
        "    def make_weight(self):\n",
        "        self.weight_matrix = [[0*i]*len(self.docs) for i in range(len(self.docs))]\n",
        "        for i in range(len(self.weight_matrix)):\n",
        "            for j in range(len(self.weight_matrix[i])):\n",
        "                self.weight_matrix[i][j] = self.first_matrix[i][j] / self.first_score[i]\n",
        "        return self.weight_matrix\n",
        "\n",
        "    # 스코어 계산\n",
        "    def cal_score(self, matrix):\n",
        "        self.score_sum = [0] * len(self.docs)\n",
        "        for i in range(len(matrix)):\n",
        "            for j in range(len(matrix[i])):\n",
        "                self.score_sum[i] += matrix[j][i] * 0.85\n",
        "            self.score_sum[i] = self.score_sum[i] + 0.15\n",
        "        return self.score_sum\n",
        "\n",
        "    # 새로운 행렬에 반영\n",
        "    def make_new(self, matrix):\n",
        "        new_matrix = [[0*i]*len(self.docs) for i in range(len(self.docs))]\n",
        "        for i in range(len(new_matrix)):\n",
        "            for j in range(len(new_matrix[i])):\n",
        "                new_matrix[i][j] = self.weight_matrix[i][j] * self.cal_score(matrix)[i]\n",
        "        return new_matrix\n",
        "    \n",
        "    # 자동 실행 수행\n",
        "    def run(self, num):\n",
        "        self.make_token()\n",
        "        matrix = self.make_first() # 초기 행렬\n",
        "        score = self.First_Score() # 초기 스코어\n",
        "        self.make_weight()\n",
        "        # 반복 수행\n",
        "        for i in range(num):\n",
        "            matrix = self.make_new(matrix)\n",
        "            score = self.cal_score(matrix)\n",
        "            print(np.array(matrix))\n",
        "            print(\"=\"*50)\n",
        "        \n",
        "        return pd.DataFrame(score, index=[\"문장1\", \"문장2\", \"문장3\", \"문장4\"], columns=[\"score\"])"
      ],
      "execution_count": 55,
      "outputs": []
    },
    {
      "cell_type": "code",
      "metadata": {
        "id": "Y0Zrxs_ttvV1",
        "colab_type": "code",
        "colab": {}
      },
      "source": [
        "# 예시 문서\n",
        "docs = [\"딸기 바나나 사과 파인애플 수박\",\n",
        "        \"바나나 사과 딸기 포도\",\n",
        "        \"복숭아 수박\",\n",
        "        \"파인애플 사과 딸기 바나나\"]"
      ],
      "execution_count": 56,
      "outputs": []
    },
    {
      "cell_type": "code",
      "metadata": {
        "id": "1Zwdu21Uuyx2",
        "colab_type": "code",
        "colab": {}
      },
      "source": [
        "ds = summarization(docs)"
      ],
      "execution_count": 57,
      "outputs": []
    },
    {
      "cell_type": "code",
      "metadata": {
        "id": "_AVF4MmtUtg0",
        "colab_type": "code",
        "colab": {
          "base_uri": "https://localhost:8080/",
          "height": 1000
        },
        "outputId": "61215e2a-5e0a-4113-85b5-1db8efcb6539"
      },
      "source": [
        "ds.run(20)"
      ],
      "execution_count": 58,
      "outputs": [
        {
          "output_type": "stream",
          "text": [
            "[[0.         0.47613636 0.15871212 0.76181818]\n",
            " [0.49318182 0.         0.         0.59181818]\n",
            " [0.29166667 0.         0.         0.        ]\n",
            " [0.76571429 0.57428571 0.         0.        ]]\n",
            "==================================================\n",
            "[[0.         0.50044717 0.16681572 0.80071547]\n",
            " [0.47402671 0.         0.         0.56883205]\n",
            " [0.2849053  0.         0.         0.        ]\n",
            " [0.74319481 0.5573961  0.         0.        ]]\n",
            "==================================================\n",
            "[[0.         0.48641175 0.16213725 0.7782588 ]\n",
            " [0.47689399 0.         0.         0.57227279]\n",
            " [0.29179336 0.         0.         0.        ]\n",
            " [0.75092308 0.56319231 0.         0.        ]]\n",
            "==================================================\n",
            "[[0.         0.49147802 0.16382601 0.78636484]\n",
            " [0.47371066 0.         0.         0.56845279]\n",
            " [0.28781666 0.         0.         0.        ]\n",
            " [0.74168677 0.55626508 0.         0.        ]]\n",
            "==================================================\n",
            "[[0.         0.48672681 0.16224227 0.7787629 ]\n",
            " [0.47299165 0.         0.         0.56758998]\n",
            " [0.28925211 0.         0.         0.        ]\n",
            " [0.74376856 0.55782642 0.         0.        ]]\n",
            "==================================================\n",
            "[[0.         0.48753766 0.16251255 0.78006026]\n",
            " [0.4717592  0.         0.         0.56611104]\n",
            " [0.28790593 0.         0.         0.        ]\n",
            " [0.73965711 0.55474284 0.         0.        ]]\n",
            "==================================================\n",
            "[[0.         0.48559906 0.16186635 0.7769585 ]\n",
            " [0.4708811  0.         0.         0.56505732]\n",
            " [0.28813567 0.         0.         0.        ]\n",
            " [0.73956892 0.55467669 0.         0.        ]]\n",
            "==================================================\n",
            "[[0.         0.48538563 0.16179521 0.776617  ]\n",
            " [0.47010654 0.         0.         0.56412785]\n",
            " [0.2875864  0.         0.         0.        ]\n",
            " [0.73755054 0.55316291 0.         0.        ]]\n",
            "==================================================\n",
            "[[0.         0.48441714 0.16147238 0.77506743]\n",
            " [0.46943921 0.         0.         0.56332705]\n",
            " [0.28752593 0.         0.         0.        ]\n",
            " [0.73693321 0.55269991 0.         0.        ]]\n",
            "==================================================\n",
            "[[0.         0.48402736 0.16134245 0.77444378]\n",
            " [0.46888613 0.         0.         0.56266336]\n",
            " [0.28725152 0.         0.         0.        ]\n",
            " [0.7357916  0.5518437  0.         0.        ]]\n",
            "==================================================\n",
            "[[0.         0.48345677 0.16115226 0.77353084]\n",
            " [0.46840473 0.         0.         0.56208568]\n",
            " [0.28714109 0.         0.         0.        ]\n",
            " [0.73516633 0.55137474 0.         0.        ]]\n",
            "==================================================\n",
            "[[0.         0.48310409 0.1610347  0.77296654]\n",
            " [0.46800309 0.         0.         0.5616037 ]\n",
            " [0.28697942 0.         0.         0.        ]\n",
            " [0.73444231 0.55083173 0.         0.        ]]\n",
            "==================================================\n",
            "[[0.         0.48273105 0.16091035 0.77236969]\n",
            " [0.46765702 0.         0.         0.56118842]\n",
            " [0.28687949 0.         0.         0.        ]\n",
            " [0.73393412 0.55045059 0.         0.        ]]\n",
            "==================================================\n",
            "[[0.         0.48245456 0.16081819 0.77192729]\n",
            " [0.46736563 0.         0.         0.56083876]\n",
            " [0.2867738  0.         0.         0.        ]\n",
            " [0.73344251 0.55008188 0.         0.        ]]\n",
            "==================================================\n",
            "[[0.         0.48219704 0.16073235 0.77151526]\n",
            " [0.46711635 0.         0.         0.56053962]\n",
            " [0.28669546 0.         0.         0.        ]\n",
            " [0.7330578  0.54979335 0.         0.        ]]\n",
            "==================================================\n",
            "[[0.         0.48199062 0.16066354 0.771185  ]\n",
            " [0.46690538 0.         0.         0.56028645]\n",
            " [0.28662249 0.         0.         0.        ]\n",
            " [0.73271237 0.54953428 0.         0.        ]]\n",
            "==================================================\n",
            "[[0.         0.48180825 0.16060275 0.7708932 ]\n",
            " [0.46672553 0.         0.         0.56007064]\n",
            " [0.28656401 0.         0.         0.        ]\n",
            " [0.73242899 0.54932174 0.         0.        ]]\n",
            "==================================================\n",
            "[[0.         0.48165707 0.16055236 0.77065132]\n",
            " [0.46657295 0.         0.         0.55988754]\n",
            " [0.28651234 0.         0.         0.        ]\n",
            " [0.73218244 0.54913683 0.         0.        ]]\n",
            "==================================================\n",
            "[[0.         0.48152644 0.16050881 0.77044231]\n",
            " [0.4664431  0.         0.         0.55973172]\n",
            " [0.2864695  0.         0.         0.        ]\n",
            " [0.73197602 0.54898201 0.         0.        ]]\n",
            "==================================================\n",
            "[[0.         0.48141659 0.1604722  0.77026654]\n",
            " [0.46633281 0.         0.         0.55959938]\n",
            " [0.28643249 0.         0.         0.        ]\n",
            " [0.73179881 0.54884911 0.         0.        ]]\n",
            "==================================================\n"
          ],
          "name": "stdout"
        },
        {
          "output_type": "execute_result",
          "data": {
            "text/html": [
              "<div>\n",
              "<style scoped>\n",
              "    .dataframe tbody tr th:only-of-type {\n",
              "        vertical-align: middle;\n",
              "    }\n",
              "\n",
              "    .dataframe tbody tr th {\n",
              "        vertical-align: top;\n",
              "    }\n",
              "\n",
              "    .dataframe thead th {\n",
              "        text-align: right;\n",
              "    }\n",
              "</style>\n",
              "<table border=\"1\" class=\"dataframe\">\n",
              "  <thead>\n",
              "    <tr style=\"text-align: right;\">\n",
              "      <th></th>\n",
              "      <th>score</th>\n",
              "    </tr>\n",
              "  </thead>\n",
              "  <tbody>\n",
              "    <tr>\n",
              "      <th>문장1</th>\n",
              "      <td>1.411880</td>\n",
              "    </tr>\n",
              "    <tr>\n",
              "      <th>문장2</th>\n",
              "      <td>1.025726</td>\n",
              "    </tr>\n",
              "    <tr>\n",
              "      <th>문장3</th>\n",
              "      <td>0.286401</td>\n",
              "    </tr>\n",
              "    <tr>\n",
              "      <th>문장4</th>\n",
              "      <td>1.280386</td>\n",
              "    </tr>\n",
              "  </tbody>\n",
              "</table>\n",
              "</div>"
            ],
            "text/plain": [
              "        score\n",
              "문장1  1.411880\n",
              "문장2  1.025726\n",
              "문장3  0.286401\n",
              "문장4  1.280386"
            ]
          },
          "metadata": {
            "tags": []
          },
          "execution_count": 58
        }
      ]
    }
  ]
}