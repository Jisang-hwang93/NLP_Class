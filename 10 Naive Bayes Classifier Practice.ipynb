{
  "nbformat": 4,
  "nbformat_minor": 0,
  "metadata": {
    "colab": {
      "name": "10_Naive_Bayes_Classifier_Practice.ipynb",
      "provenance": [],
      "collapsed_sections": [],
      "authorship_tag": "ABX9TyN+odFFb9GLxnC3BFV8UxPU",
      "include_colab_link": true
    },
    "kernelspec": {
      "name": "python3",
      "display_name": "Python 3"
    },
    "accelerator": "GPU"
  },
  "cells": [
    {
      "cell_type": "markdown",
      "metadata": {
        "id": "view-in-github",
        "colab_type": "text"
      },
      "source": [
        "<a href=\"https://colab.research.google.com/github/Jisang-hwang93/NLP_Class/blob/master/10%20Naive%20Bayes%20Classifier%20Practice.ipynb\" target=\"_parent\"><img src=\"https://colab.research.google.com/assets/colab-badge.svg\" alt=\"Open In Colab\"/></a>"
      ]
    },
    {
      "cell_type": "markdown",
      "metadata": {
        "id": "pkaSOTmauHXe",
        "colab_type": "text"
      },
      "source": [
        "# **Document Classification**"
      ]
    },
    {
      "cell_type": "markdown",
      "metadata": {
        "id": "LzB2pH_JuMKD",
        "colab_type": "text"
      },
      "source": [
        "##**1.Naive Bayes Classifier 구현**\n",
        "**스팸 메일 필터링**"
      ]
    },
    {
      "cell_type": "markdown",
      "metadata": {
        "id": "yPAhReDDugYU",
        "colab_type": "text"
      },
      "source": [
        "### **1-1. 데이터 전처리**"
      ]
    },
    {
      "cell_type": "code",
      "metadata": {
        "id": "5qpVQiFT46cf",
        "colab_type": "code",
        "colab": {}
      },
      "source": [
        "# 메일과 메일의 종류 데이터\n",
        "mail = ['me free lottery',\n",
        "        'free get free you',\n",
        "        'you free scholarship',\n",
        "        'free to contact me',\n",
        "        'you won award',\n",
        "        'you ticket lottery']\n",
        "\n",
        "mail_type = [\"spam\", \"spam\", \"normal\", \"normal\", \"normal\", \"spam\"]"
      ],
      "execution_count": 1,
      "outputs": []
    },
    {
      "cell_type": "code",
      "metadata": {
        "id": "GUq3mhrx9Xse",
        "colab_type": "code",
        "colab": {
          "base_uri": "https://localhost:8080/",
          "height": 316
        },
        "outputId": "fa1e0229-5e01-40c3-a267-89bdd993acf5"
      },
      "source": [
        "# 각 문장 토큰화\n",
        "lines = []\n",
        "tokens = []\n",
        "\n",
        "for i in range(len(mail)):\n",
        "    lines.append(mail[i].split(\" \"))\n",
        "    # 단어 뭉치 생성\n",
        "    for word in lines[i]:\n",
        "        tokens.append(word)\n",
        "tokens = list(set(tokens))\n",
        "\n",
        "lines, tokens"
      ],
      "execution_count": 2,
      "outputs": [
        {
          "output_type": "execute_result",
          "data": {
            "text/plain": [
              "([['me', 'free', 'lottery'],\n",
              "  ['free', 'get', 'free', 'you'],\n",
              "  ['you', 'free', 'scholarship'],\n",
              "  ['free', 'to', 'contact', 'me'],\n",
              "  ['you', 'won', 'award'],\n",
              "  ['you', 'ticket', 'lottery']],\n",
              " ['award',\n",
              "  'scholarship',\n",
              "  'won',\n",
              "  'lottery',\n",
              "  'to',\n",
              "  'me',\n",
              "  'you',\n",
              "  'contact',\n",
              "  'get',\n",
              "  'ticket',\n",
              "  'free'])"
            ]
          },
          "metadata": {
            "tags": []
          },
          "execution_count": 2
        }
      ]
    },
    {
      "cell_type": "code",
      "metadata": {
        "id": "ynmPb7p9rdKu",
        "colab_type": "code",
        "colab": {
          "base_uri": "https://localhost:8080/",
          "height": 225
        },
        "outputId": "93b9c6fe-1495-4f95-874a-0f24a5005596"
      },
      "source": [
        "# 메일 분류 확인\n",
        "import pandas as pd\n",
        "\n",
        "mail_classify = {\"메일\" : lines, \"분류\": mail_type}\n",
        "df = pd.DataFrame(mail_classify)\n",
        "\n",
        "df"
      ],
      "execution_count": 3,
      "outputs": [
        {
          "output_type": "execute_result",
          "data": {
            "text/html": [
              "<div>\n",
              "<style scoped>\n",
              "    .dataframe tbody tr th:only-of-type {\n",
              "        vertical-align: middle;\n",
              "    }\n",
              "\n",
              "    .dataframe tbody tr th {\n",
              "        vertical-align: top;\n",
              "    }\n",
              "\n",
              "    .dataframe thead th {\n",
              "        text-align: right;\n",
              "    }\n",
              "</style>\n",
              "<table border=\"1\" class=\"dataframe\">\n",
              "  <thead>\n",
              "    <tr style=\"text-align: right;\">\n",
              "      <th></th>\n",
              "      <th>메일</th>\n",
              "      <th>분류</th>\n",
              "    </tr>\n",
              "  </thead>\n",
              "  <tbody>\n",
              "    <tr>\n",
              "      <th>0</th>\n",
              "      <td>[me, free, lottery]</td>\n",
              "      <td>spam</td>\n",
              "    </tr>\n",
              "    <tr>\n",
              "      <th>1</th>\n",
              "      <td>[free, get, free, you]</td>\n",
              "      <td>spam</td>\n",
              "    </tr>\n",
              "    <tr>\n",
              "      <th>2</th>\n",
              "      <td>[you, free, scholarship]</td>\n",
              "      <td>normal</td>\n",
              "    </tr>\n",
              "    <tr>\n",
              "      <th>3</th>\n",
              "      <td>[free, to, contact, me]</td>\n",
              "      <td>normal</td>\n",
              "    </tr>\n",
              "    <tr>\n",
              "      <th>4</th>\n",
              "      <td>[you, won, award]</td>\n",
              "      <td>normal</td>\n",
              "    </tr>\n",
              "    <tr>\n",
              "      <th>5</th>\n",
              "      <td>[you, ticket, lottery]</td>\n",
              "      <td>spam</td>\n",
              "    </tr>\n",
              "  </tbody>\n",
              "</table>\n",
              "</div>"
            ],
            "text/plain": [
              "                         메일      분류\n",
              "0       [me, free, lottery]    spam\n",
              "1    [free, get, free, you]    spam\n",
              "2  [you, free, scholarship]  normal\n",
              "3   [free, to, contact, me]  normal\n",
              "4         [you, won, award]  normal\n",
              "5    [you, ticket, lottery]    spam"
            ]
          },
          "metadata": {
            "tags": []
          },
          "execution_count": 3
        }
      ]
    },
    {
      "cell_type": "code",
      "metadata": {
        "id": "yJOo82z3YqrH",
        "colab_type": "code",
        "colab": {
          "base_uri": "https://localhost:8080/",
          "height": 34
        },
        "outputId": "3a123e5c-e752-4298-a48f-3d2cda1d7509"
      },
      "source": [
        "# spam, normal 메일 개수\n",
        "num_spam = 0\n",
        "num_norm = 0\n",
        "\n",
        "for label in mail_classify[\"분류\"]:\n",
        "    if label == \"spam\":\n",
        "        num_spam += 1\n",
        "    if label == \"normal\":\n",
        "        num_norm += 1\n",
        "\n",
        "# 총 메일 개수\n",
        "num_total = num_spam + num_norm\n",
        "\n",
        "# 사전 확률 계산\n",
        "spam_prior = num_spam / num_total\n",
        "norm_prior = num_norm / num_total\n",
        "\n",
        "spam_prior, norm_prior"
      ],
      "execution_count": 4,
      "outputs": [
        {
          "output_type": "execute_result",
          "data": {
            "text/plain": [
              "(0.5, 0.5)"
            ]
          },
          "metadata": {
            "tags": []
          },
          "execution_count": 4
        }
      ]
    },
    {
      "cell_type": "code",
      "metadata": {
        "id": "DezCHfJjmiQm",
        "colab_type": "code",
        "colab": {
          "base_uri": "https://localhost:8080/",
          "height": 34
        },
        "outputId": "3d2204ec-a46e-4f09-c04a-eddc8675bdcf"
      },
      "source": [
        "import numpy as np\n",
        "\n",
        "spam_word = []\n",
        "norm_word = []\n",
        "total_spam = 0\n",
        "total_norm = 0\n",
        "\n",
        "for i in range(len(tokens)):\n",
        "    count_spam = 0\n",
        "    count_norm = 0\n",
        "    for j in range(len(lines)):\n",
        "        if mail_classify[\"분류\"][j] == \"spam\":\n",
        "            if tokens[i] in lines[j]:\n",
        "                count_spam += lines[j].count(tokens[i])\n",
        "        if mail_classify[\"분류\"][j] == \"normal\":\n",
        "            if tokens[i] in lines[j]:\n",
        "                count_norm += lines[j].count(tokens[i])\n",
        "\n",
        "    spam_word.append(count_spam)\n",
        "    norm_word.append(count_norm)\n",
        "    total_spam += count_spam\n",
        "    total_norm += count_norm\n",
        "\n",
        "total_spam, total_norm"
      ],
      "execution_count": 5,
      "outputs": [
        {
          "output_type": "execute_result",
          "data": {
            "text/plain": [
              "(10, 10)"
            ]
          },
          "metadata": {
            "tags": []
          },
          "execution_count": 5
        }
      ]
    },
    {
      "cell_type": "markdown",
      "metadata": {
        "id": "OjNdEC6Gusmt",
        "colab_type": "text"
      },
      "source": [
        "### **1-2. Laplace Smoothing**"
      ]
    },
    {
      "cell_type": "code",
      "metadata": {
        "id": "C355gHdXqXpe",
        "colab_type": "code",
        "colab": {}
      },
      "source": [
        "# Laplace Smoothing\n",
        "laplace_spam = []\n",
        "laplace_norm = []\n",
        "\n",
        "for i in range(len(tokens)):\n",
        "    laplace_spam.append((spam_prior+spam_word[i])/(2*spam_prior+total_spam)*100)\n",
        "\n",
        "for i in range(len(tokens)):\n",
        "    laplace_norm.append((norm_prior+norm_word[i])/(2*norm_prior+total_norm)*100)"
      ],
      "execution_count": 21,
      "outputs": []
    },
    {
      "cell_type": "code",
      "metadata": {
        "id": "val_rfvg0ZF5",
        "colab_type": "code",
        "colab": {
          "base_uri": "https://localhost:8080/",
          "height": 373
        },
        "outputId": "a9dc322f-9465-49cd-95d5-59a188c97a93"
      },
      "source": [
        "word_table = np.array([spam_word, norm_word, laplace_spam, laplace_norm])\n",
        "\n",
        "df = pd.DataFrame(word_table.T, index=tokens, columns=[\"spam\", \"normal\", \"P(w|spam)\", \"P(w|normal)\"])\n",
        "df.sort_index(axis=0)"
      ],
      "execution_count": 22,
      "outputs": [
        {
          "output_type": "execute_result",
          "data": {
            "text/html": [
              "<div>\n",
              "<style scoped>\n",
              "    .dataframe tbody tr th:only-of-type {\n",
              "        vertical-align: middle;\n",
              "    }\n",
              "\n",
              "    .dataframe tbody tr th {\n",
              "        vertical-align: top;\n",
              "    }\n",
              "\n",
              "    .dataframe thead th {\n",
              "        text-align: right;\n",
              "    }\n",
              "</style>\n",
              "<table border=\"1\" class=\"dataframe\">\n",
              "  <thead>\n",
              "    <tr style=\"text-align: right;\">\n",
              "      <th></th>\n",
              "      <th>spam</th>\n",
              "      <th>normal</th>\n",
              "      <th>P(w|spam)</th>\n",
              "      <th>P(w|normal)</th>\n",
              "    </tr>\n",
              "  </thead>\n",
              "  <tbody>\n",
              "    <tr>\n",
              "      <th>award</th>\n",
              "      <td>0.0</td>\n",
              "      <td>1.0</td>\n",
              "      <td>4.545455</td>\n",
              "      <td>13.636364</td>\n",
              "    </tr>\n",
              "    <tr>\n",
              "      <th>contact</th>\n",
              "      <td>0.0</td>\n",
              "      <td>1.0</td>\n",
              "      <td>4.545455</td>\n",
              "      <td>13.636364</td>\n",
              "    </tr>\n",
              "    <tr>\n",
              "      <th>free</th>\n",
              "      <td>3.0</td>\n",
              "      <td>2.0</td>\n",
              "      <td>31.818182</td>\n",
              "      <td>22.727273</td>\n",
              "    </tr>\n",
              "    <tr>\n",
              "      <th>get</th>\n",
              "      <td>1.0</td>\n",
              "      <td>0.0</td>\n",
              "      <td>13.636364</td>\n",
              "      <td>4.545455</td>\n",
              "    </tr>\n",
              "    <tr>\n",
              "      <th>lottery</th>\n",
              "      <td>2.0</td>\n",
              "      <td>0.0</td>\n",
              "      <td>22.727273</td>\n",
              "      <td>4.545455</td>\n",
              "    </tr>\n",
              "    <tr>\n",
              "      <th>me</th>\n",
              "      <td>1.0</td>\n",
              "      <td>1.0</td>\n",
              "      <td>13.636364</td>\n",
              "      <td>13.636364</td>\n",
              "    </tr>\n",
              "    <tr>\n",
              "      <th>scholarship</th>\n",
              "      <td>0.0</td>\n",
              "      <td>1.0</td>\n",
              "      <td>4.545455</td>\n",
              "      <td>13.636364</td>\n",
              "    </tr>\n",
              "    <tr>\n",
              "      <th>ticket</th>\n",
              "      <td>1.0</td>\n",
              "      <td>0.0</td>\n",
              "      <td>13.636364</td>\n",
              "      <td>4.545455</td>\n",
              "    </tr>\n",
              "    <tr>\n",
              "      <th>to</th>\n",
              "      <td>0.0</td>\n",
              "      <td>1.0</td>\n",
              "      <td>4.545455</td>\n",
              "      <td>13.636364</td>\n",
              "    </tr>\n",
              "    <tr>\n",
              "      <th>won</th>\n",
              "      <td>0.0</td>\n",
              "      <td>1.0</td>\n",
              "      <td>4.545455</td>\n",
              "      <td>13.636364</td>\n",
              "    </tr>\n",
              "    <tr>\n",
              "      <th>you</th>\n",
              "      <td>2.0</td>\n",
              "      <td>2.0</td>\n",
              "      <td>22.727273</td>\n",
              "      <td>22.727273</td>\n",
              "    </tr>\n",
              "  </tbody>\n",
              "</table>\n",
              "</div>"
            ],
            "text/plain": [
              "             spam  normal  P(w|spam)  P(w|normal)\n",
              "award         0.0     1.0   4.545455    13.636364\n",
              "contact       0.0     1.0   4.545455    13.636364\n",
              "free          3.0     2.0  31.818182    22.727273\n",
              "get           1.0     0.0  13.636364     4.545455\n",
              "lottery       2.0     0.0  22.727273     4.545455\n",
              "me            1.0     1.0  13.636364    13.636364\n",
              "scholarship   0.0     1.0   4.545455    13.636364\n",
              "ticket        1.0     0.0  13.636364     4.545455\n",
              "to            0.0     1.0   4.545455    13.636364\n",
              "won           0.0     1.0   4.545455    13.636364\n",
              "you           2.0     2.0  22.727273    22.727273"
            ]
          },
          "metadata": {
            "tags": []
          },
          "execution_count": 22
        }
      ]
    },
    {
      "cell_type": "markdown",
      "metadata": {
        "id": "fPCZz0z2uwu1",
        "colab_type": "text"
      },
      "source": [
        "### **1-3. Log 이용**\n",
        "**Log의 성질을 활용. 곱셈을 덧셈으로 변환해 Underflow를 방지함**"
      ]
    },
    {
      "cell_type": "code",
      "metadata": {
        "id": "sTrBEC5_BIBw",
        "colab_type": "code",
        "colab": {}
      },
      "source": [
        "# 로그 이용 언더 플로우\n",
        "log_spam = []\n",
        "log_norm = []\n",
        "\n",
        "for i in range(len(tokens)):\n",
        "    log_spam.append(np.log(laplace_spam[i]/100))\n",
        "    log_norm.append(np.log(laplace_norm[i]/100))"
      ],
      "execution_count": 28,
      "outputs": []
    },
    {
      "cell_type": "code",
      "metadata": {
        "id": "jfhaSmtQ8kpG",
        "colab_type": "code",
        "colab": {
          "base_uri": "https://localhost:8080/",
          "height": 393
        },
        "outputId": "3a8e0cfc-bfe4-408e-c619-d1181263a1cc"
      },
      "source": [
        "word_table = np.array([spam_word, norm_word, laplace_spam, laplace_norm, log_spam, log_norm])\n",
        "\n",
        "df = pd.DataFrame(word_table.T, index=tokens, columns=[\"spam\", \"normal\", \"P(w|spam)\", \"P(w|normal)\", \"Log(P(w|spam))\", \"Log(P(w|normal))\"])\n",
        "df.sort_index(axis=0)"
      ],
      "execution_count": 31,
      "outputs": [
        {
          "output_type": "execute_result",
          "data": {
            "text/html": [
              "<div>\n",
              "<style scoped>\n",
              "    .dataframe tbody tr th:only-of-type {\n",
              "        vertical-align: middle;\n",
              "    }\n",
              "\n",
              "    .dataframe tbody tr th {\n",
              "        vertical-align: top;\n",
              "    }\n",
              "\n",
              "    .dataframe thead th {\n",
              "        text-align: right;\n",
              "    }\n",
              "</style>\n",
              "<table border=\"1\" class=\"dataframe\">\n",
              "  <thead>\n",
              "    <tr style=\"text-align: right;\">\n",
              "      <th></th>\n",
              "      <th>spam</th>\n",
              "      <th>normal</th>\n",
              "      <th>P(w|spam)</th>\n",
              "      <th>P(w|normal)</th>\n",
              "      <th>Log(P(w|spam))</th>\n",
              "      <th>Log(P(w|normal))</th>\n",
              "    </tr>\n",
              "  </thead>\n",
              "  <tbody>\n",
              "    <tr>\n",
              "      <th>award</th>\n",
              "      <td>0.0</td>\n",
              "      <td>1.0</td>\n",
              "      <td>4.545455</td>\n",
              "      <td>13.636364</td>\n",
              "      <td>-3.091042</td>\n",
              "      <td>-1.992430</td>\n",
              "    </tr>\n",
              "    <tr>\n",
              "      <th>contact</th>\n",
              "      <td>0.0</td>\n",
              "      <td>1.0</td>\n",
              "      <td>4.545455</td>\n",
              "      <td>13.636364</td>\n",
              "      <td>-3.091042</td>\n",
              "      <td>-1.992430</td>\n",
              "    </tr>\n",
              "    <tr>\n",
              "      <th>free</th>\n",
              "      <td>3.0</td>\n",
              "      <td>2.0</td>\n",
              "      <td>31.818182</td>\n",
              "      <td>22.727273</td>\n",
              "      <td>-1.145132</td>\n",
              "      <td>-1.481605</td>\n",
              "    </tr>\n",
              "    <tr>\n",
              "      <th>get</th>\n",
              "      <td>1.0</td>\n",
              "      <td>0.0</td>\n",
              "      <td>13.636364</td>\n",
              "      <td>4.545455</td>\n",
              "      <td>-1.992430</td>\n",
              "      <td>-3.091042</td>\n",
              "    </tr>\n",
              "    <tr>\n",
              "      <th>lottery</th>\n",
              "      <td>2.0</td>\n",
              "      <td>0.0</td>\n",
              "      <td>22.727273</td>\n",
              "      <td>4.545455</td>\n",
              "      <td>-1.481605</td>\n",
              "      <td>-3.091042</td>\n",
              "    </tr>\n",
              "    <tr>\n",
              "      <th>me</th>\n",
              "      <td>1.0</td>\n",
              "      <td>1.0</td>\n",
              "      <td>13.636364</td>\n",
              "      <td>13.636364</td>\n",
              "      <td>-1.992430</td>\n",
              "      <td>-1.992430</td>\n",
              "    </tr>\n",
              "    <tr>\n",
              "      <th>scholarship</th>\n",
              "      <td>0.0</td>\n",
              "      <td>1.0</td>\n",
              "      <td>4.545455</td>\n",
              "      <td>13.636364</td>\n",
              "      <td>-3.091042</td>\n",
              "      <td>-1.992430</td>\n",
              "    </tr>\n",
              "    <tr>\n",
              "      <th>ticket</th>\n",
              "      <td>1.0</td>\n",
              "      <td>0.0</td>\n",
              "      <td>13.636364</td>\n",
              "      <td>4.545455</td>\n",
              "      <td>-1.992430</td>\n",
              "      <td>-3.091042</td>\n",
              "    </tr>\n",
              "    <tr>\n",
              "      <th>to</th>\n",
              "      <td>0.0</td>\n",
              "      <td>1.0</td>\n",
              "      <td>4.545455</td>\n",
              "      <td>13.636364</td>\n",
              "      <td>-3.091042</td>\n",
              "      <td>-1.992430</td>\n",
              "    </tr>\n",
              "    <tr>\n",
              "      <th>won</th>\n",
              "      <td>0.0</td>\n",
              "      <td>1.0</td>\n",
              "      <td>4.545455</td>\n",
              "      <td>13.636364</td>\n",
              "      <td>-3.091042</td>\n",
              "      <td>-1.992430</td>\n",
              "    </tr>\n",
              "    <tr>\n",
              "      <th>you</th>\n",
              "      <td>2.0</td>\n",
              "      <td>2.0</td>\n",
              "      <td>22.727273</td>\n",
              "      <td>22.727273</td>\n",
              "      <td>-1.481605</td>\n",
              "      <td>-1.481605</td>\n",
              "    </tr>\n",
              "  </tbody>\n",
              "</table>\n",
              "</div>"
            ],
            "text/plain": [
              "             spam  normal  ...  Log(P(w|spam))  Log(P(w|normal))\n",
              "award         0.0     1.0  ...       -3.091042         -1.992430\n",
              "contact       0.0     1.0  ...       -3.091042         -1.992430\n",
              "free          3.0     2.0  ...       -1.145132         -1.481605\n",
              "get           1.0     0.0  ...       -1.992430         -3.091042\n",
              "lottery       2.0     0.0  ...       -1.481605         -3.091042\n",
              "me            1.0     1.0  ...       -1.992430         -1.992430\n",
              "scholarship   0.0     1.0  ...       -3.091042         -1.992430\n",
              "ticket        1.0     0.0  ...       -1.992430         -3.091042\n",
              "to            0.0     1.0  ...       -3.091042         -1.992430\n",
              "won           0.0     1.0  ...       -3.091042         -1.992430\n",
              "you           2.0     2.0  ...       -1.481605         -1.481605\n",
              "\n",
              "[11 rows x 6 columns]"
            ]
          },
          "metadata": {
            "tags": []
          },
          "execution_count": 31
        }
      ]
    },
    {
      "cell_type": "markdown",
      "metadata": {
        "id": "fJnwm6BqzKni",
        "colab_type": "text"
      },
      "source": [
        "### **1-4. 스팸 확률 구하기**"
      ]
    },
    {
      "cell_type": "code",
      "metadata": {
        "id": "YNzH3uRrAjbr",
        "colab_type": "code",
        "colab": {
          "base_uri": "https://localhost:8080/",
          "height": 34
        },
        "outputId": "7f1fec32-5ff7-4438-e9db-b03bdff58d00"
      },
      "source": [
        "# 스팸 필터링 : 입력값\n",
        "check_list = \"free lottery\"\n",
        "\n",
        "check_token = []\n",
        "\n",
        "check_token.append(check_list.split(\" \"))\n",
        "\n",
        "check_token"
      ],
      "execution_count": 62,
      "outputs": [
        {
          "output_type": "execute_result",
          "data": {
            "text/plain": [
              "[['free', 'lottery']]"
            ]
          },
          "metadata": {
            "tags": []
          },
          "execution_count": 62
        }
      ]
    },
    {
      "cell_type": "code",
      "metadata": {
        "id": "9tLr93uOzQGf",
        "colab_type": "code",
        "colab": {
          "base_uri": "https://localhost:8080/",
          "height": 34
        },
        "outputId": "0501647e-03b7-4572-d07c-f995292d9396"
      },
      "source": [
        "# 입력 토큰 로그들의 합\n",
        "import math\n",
        "\n",
        "spam_filter = 0\n",
        "norm_filter = 0\n",
        "\n",
        "for i in range(len(check_token[0])):\n",
        "    spam_filter += df['Log(P(w|spam))'][check_token[0][i]]\n",
        "    norm_filter += df['Log(P(w|normal))'][check_token[0][i]]\n",
        "\n",
        "spam_filter, norm_filter"
      ],
      "execution_count": 67,
      "outputs": [
        {
          "output_type": "execute_result",
          "data": {
            "text/plain": [
              "(-2.626736845227218, -4.572646994282531)"
            ]
          },
          "metadata": {
            "tags": []
          },
          "execution_count": 67
        }
      ]
    },
    {
      "cell_type": "code",
      "metadata": {
        "id": "OwABYH2V0AJe",
        "colab_type": "code",
        "colab": {
          "base_uri": "https://localhost:8080/",
          "height": 34
        },
        "outputId": "b524680f-796b-4d3a-fafb-79f9b7118c52"
      },
      "source": [
        "# 입력 토큰 로그합과 사전확률 로그의 합\n",
        "spam_filter = math.exp(spam_filter + np.log(spam_prior))\n",
        "norm_filter = math.exp(norm_filter + np.log(norm_prior))\n",
        "\n",
        "spam_filter, norm_filter"
      ],
      "execution_count": 68,
      "outputs": [
        {
          "output_type": "execute_result",
          "data": {
            "text/plain": [
              "(0.03615702479338842, 0.00516528925619835)"
            ]
          },
          "metadata": {
            "tags": []
          },
          "execution_count": 68
        }
      ]
    },
    {
      "cell_type": "code",
      "metadata": {
        "id": "0wZhNqKv2xuB",
        "colab_type": "code",
        "colab": {
          "base_uri": "https://localhost:8080/",
          "height": 34
        },
        "outputId": "b5994163-bfbc-4713-d017-6ca8754295f8"
      },
      "source": [
        "# 스팸/정상 메일일 확률\n",
        "spam_prob = spam_filter / (spam_filter + norm_filter)\n",
        "norm_prob = norm_filter / (spam_filter + norm_filter)\n",
        "\n",
        "spam_prob, norm_prob"
      ],
      "execution_count": 69,
      "outputs": [
        {
          "output_type": "execute_result",
          "data": {
            "text/plain": [
              "(0.8749999999999999, 0.12500000000000008)"
            ]
          },
          "metadata": {
            "tags": []
          },
          "execution_count": 69
        }
      ]
    },
    {
      "cell_type": "markdown",
      "metadata": {
        "id": "Vmh12tB_5EyO",
        "colab_type": "text"
      },
      "source": [
        "### **1-5. 최종 결과**"
      ]
    },
    {
      "cell_type": "code",
      "metadata": {
        "id": "ccTMHNWL3pBX",
        "colab_type": "code",
        "colab": {
          "base_uri": "https://localhost:8080/",
          "height": 52
        },
        "outputId": "50541d58-8ad8-493e-b685-f93e058b126f"
      },
      "source": [
        "print(\"{}라는 토큰이 있는 메일이 스팸일 확률 : {:.2f}%\".format(check_list, spam_prob*100))\n",
        "print(\"{}라는 토큰이 있는 메일이 정상일 확률 : {:.2f}%\".format(check_list, norm_prob*100))"
      ],
      "execution_count": 82,
      "outputs": [
        {
          "output_type": "stream",
          "text": [
            "free lottery라는 토큰이 있는 메일이 스팸일 확률 : 87.50%\n",
            "free lottery라는 토큰이 있는 메일이 정상일 확률 : 12.50%\n"
          ],
          "name": "stdout"
        }
      ]
    },
    {
      "cell_type": "code",
      "metadata": {
        "id": "8UBtGW3W4MH6",
        "colab_type": "code",
        "colab": {}
      },
      "source": [
        ""
      ],
      "execution_count": null,
      "outputs": []
    }
  ]
}