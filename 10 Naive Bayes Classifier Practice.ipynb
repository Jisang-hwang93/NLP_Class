{
  "nbformat": 4,
  "nbformat_minor": 0,
  "metadata": {
    "colab": {
      "name": "10_Naive_Bayes_Classifier_Practice.ipynb",
      "provenance": [],
      "collapsed_sections": [],
      "authorship_tag": "ABX9TyNiQ4JS27JSkJ7IQOjOlY17",
      "include_colab_link": true
    },
    "kernelspec": {
      "name": "python3",
      "display_name": "Python 3"
    },
    "accelerator": "GPU"
  },
  "cells": [
    {
      "cell_type": "markdown",
      "metadata": {
        "id": "view-in-github",
        "colab_type": "text"
      },
      "source": [
        "<a href=\"https://colab.research.google.com/github/Jisang-hwang93/NLP_Class/blob/master/10%20Naive%20Bayes%20Classifier%20Practice.ipynb\" target=\"_parent\"><img src=\"https://colab.research.google.com/assets/colab-badge.svg\" alt=\"Open In Colab\"/></a>"
      ]
    },
    {
      "cell_type": "markdown",
      "metadata": {
        "id": "pkaSOTmauHXe",
        "colab_type": "text"
      },
      "source": [
        "# **Document Classification**"
      ]
    },
    {
      "cell_type": "markdown",
      "metadata": {
        "id": "LzB2pH_JuMKD",
        "colab_type": "text"
      },
      "source": [
        "## **1.Naive Bayes Classifier 구현**\n",
        "**스팸 메일 필터링**"
      ]
    },
    {
      "cell_type": "markdown",
      "metadata": {
        "id": "yPAhReDDugYU",
        "colab_type": "text"
      },
      "source": [
        "### **1-1. 데이터 전처리**"
      ]
    },
    {
      "cell_type": "code",
      "metadata": {
        "id": "5qpVQiFT46cf",
        "colab_type": "code",
        "colab": {}
      },
      "source": [
        "# 메일과 메일의 종류 데이터\n",
        "mail = ['me free lottery',\n",
        "        'free get free you',\n",
        "        'you free scholarship',\n",
        "        'free to contact me',\n",
        "        'you won award',\n",
        "        'you ticket lottery']\n",
        "\n",
        "mail_type = [\"spam\", \"spam\", \"normal\", \"normal\", \"normal\", \"spam\"]"
      ],
      "execution_count": null,
      "outputs": []
    },
    {
      "cell_type": "code",
      "metadata": {
        "id": "GUq3mhrx9Xse",
        "colab_type": "code",
        "colab": {
          "base_uri": "https://localhost:8080/",
          "height": 316
        },
        "outputId": "fa1e0229-5e01-40c3-a267-89bdd993acf5"
      },
      "source": [
        "# 각 문장 토큰화\n",
        "lines = []\n",
        "tokens = []\n",
        "\n",
        "for i in range(len(mail)):\n",
        "    lines.append(mail[i].split(\" \"))\n",
        "    # 단어 뭉치 생성\n",
        "    for word in lines[i]:\n",
        "        tokens.append(word)\n",
        "tokens = list(set(tokens))\n",
        "\n",
        "lines, tokens"
      ],
      "execution_count": null,
      "outputs": [
        {
          "output_type": "execute_result",
          "data": {
            "text/plain": [
              "([['me', 'free', 'lottery'],\n",
              "  ['free', 'get', 'free', 'you'],\n",
              "  ['you', 'free', 'scholarship'],\n",
              "  ['free', 'to', 'contact', 'me'],\n",
              "  ['you', 'won', 'award'],\n",
              "  ['you', 'ticket', 'lottery']],\n",
              " ['award',\n",
              "  'scholarship',\n",
              "  'won',\n",
              "  'lottery',\n",
              "  'to',\n",
              "  'me',\n",
              "  'you',\n",
              "  'contact',\n",
              "  'get',\n",
              "  'ticket',\n",
              "  'free'])"
            ]
          },
          "metadata": {
            "tags": []
          },
          "execution_count": 2
        }
      ]
    },
    {
      "cell_type": "code",
      "metadata": {
        "id": "ynmPb7p9rdKu",
        "colab_type": "code",
        "colab": {
          "base_uri": "https://localhost:8080/",
          "height": 225
        },
        "outputId": "93b9c6fe-1495-4f95-874a-0f24a5005596"
      },
      "source": [
        "# 메일 분류 확인\n",
        "import pandas as pd\n",
        "\n",
        "mail_classify = {\"메일\" : lines, \"분류\": mail_type}\n",
        "df = pd.DataFrame(mail_classify)\n",
        "\n",
        "df"
      ],
      "execution_count": null,
      "outputs": [
        {
          "output_type": "execute_result",
          "data": {
            "text/html": [
              "<div>\n",
              "<style scoped>\n",
              "    .dataframe tbody tr th:only-of-type {\n",
              "        vertical-align: middle;\n",
              "    }\n",
              "\n",
              "    .dataframe tbody tr th {\n",
              "        vertical-align: top;\n",
              "    }\n",
              "\n",
              "    .dataframe thead th {\n",
              "        text-align: right;\n",
              "    }\n",
              "</style>\n",
              "<table border=\"1\" class=\"dataframe\">\n",
              "  <thead>\n",
              "    <tr style=\"text-align: right;\">\n",
              "      <th></th>\n",
              "      <th>메일</th>\n",
              "      <th>분류</th>\n",
              "    </tr>\n",
              "  </thead>\n",
              "  <tbody>\n",
              "    <tr>\n",
              "      <th>0</th>\n",
              "      <td>[me, free, lottery]</td>\n",
              "      <td>spam</td>\n",
              "    </tr>\n",
              "    <tr>\n",
              "      <th>1</th>\n",
              "      <td>[free, get, free, you]</td>\n",
              "      <td>spam</td>\n",
              "    </tr>\n",
              "    <tr>\n",
              "      <th>2</th>\n",
              "      <td>[you, free, scholarship]</td>\n",
              "      <td>normal</td>\n",
              "    </tr>\n",
              "    <tr>\n",
              "      <th>3</th>\n",
              "      <td>[free, to, contact, me]</td>\n",
              "      <td>normal</td>\n",
              "    </tr>\n",
              "    <tr>\n",
              "      <th>4</th>\n",
              "      <td>[you, won, award]</td>\n",
              "      <td>normal</td>\n",
              "    </tr>\n",
              "    <tr>\n",
              "      <th>5</th>\n",
              "      <td>[you, ticket, lottery]</td>\n",
              "      <td>spam</td>\n",
              "    </tr>\n",
              "  </tbody>\n",
              "</table>\n",
              "</div>"
            ],
            "text/plain": [
              "                         메일      분류\n",
              "0       [me, free, lottery]    spam\n",
              "1    [free, get, free, you]    spam\n",
              "2  [you, free, scholarship]  normal\n",
              "3   [free, to, contact, me]  normal\n",
              "4         [you, won, award]  normal\n",
              "5    [you, ticket, lottery]    spam"
            ]
          },
          "metadata": {
            "tags": []
          },
          "execution_count": 3
        }
      ]
    },
    {
      "cell_type": "code",
      "metadata": {
        "id": "yJOo82z3YqrH",
        "colab_type": "code",
        "colab": {
          "base_uri": "https://localhost:8080/",
          "height": 34
        },
        "outputId": "3a123e5c-e752-4298-a48f-3d2cda1d7509"
      },
      "source": [
        "# spam, normal 메일 개수\n",
        "num_spam = 0\n",
        "num_norm = 0\n",
        "\n",
        "for label in mail_classify[\"분류\"]:\n",
        "    if label == \"spam\":\n",
        "        num_spam += 1\n",
        "    if label == \"normal\":\n",
        "        num_norm += 1\n",
        "\n",
        "# 총 메일 개수\n",
        "num_total = num_spam + num_norm\n",
        "\n",
        "# 사전 확률 계산\n",
        "spam_prior = num_spam / num_total\n",
        "norm_prior = num_norm / num_total\n",
        "\n",
        "spam_prior, norm_prior"
      ],
      "execution_count": null,
      "outputs": [
        {
          "output_type": "execute_result",
          "data": {
            "text/plain": [
              "(0.5, 0.5)"
            ]
          },
          "metadata": {
            "tags": []
          },
          "execution_count": 4
        }
      ]
    },
    {
      "cell_type": "code",
      "metadata": {
        "id": "DezCHfJjmiQm",
        "colab_type": "code",
        "colab": {
          "base_uri": "https://localhost:8080/",
          "height": 34
        },
        "outputId": "3d2204ec-a46e-4f09-c04a-eddc8675bdcf"
      },
      "source": [
        "import numpy as np\n",
        "\n",
        "spam_word = []\n",
        "norm_word = []\n",
        "total_spam = 0\n",
        "total_norm = 0\n",
        "\n",
        "for i in range(len(tokens)):\n",
        "    count_spam = 0\n",
        "    count_norm = 0\n",
        "    for j in range(len(lines)):\n",
        "        if mail_classify[\"분류\"][j] == \"spam\":\n",
        "            if tokens[i] in lines[j]:\n",
        "                count_spam += lines[j].count(tokens[i])\n",
        "        if mail_classify[\"분류\"][j] == \"normal\":\n",
        "            if tokens[i] in lines[j]:\n",
        "                count_norm += lines[j].count(tokens[i])\n",
        "\n",
        "    spam_word.append(count_spam)\n",
        "    norm_word.append(count_norm)\n",
        "    total_spam += count_spam\n",
        "    total_norm += count_norm\n",
        "\n",
        "total_spam, total_norm"
      ],
      "execution_count": null,
      "outputs": [
        {
          "output_type": "execute_result",
          "data": {
            "text/plain": [
              "(10, 10)"
            ]
          },
          "metadata": {
            "tags": []
          },
          "execution_count": 5
        }
      ]
    },
    {
      "cell_type": "markdown",
      "metadata": {
        "id": "OjNdEC6Gusmt",
        "colab_type": "text"
      },
      "source": [
        "### **1-2. Laplace Smoothing**"
      ]
    },
    {
      "cell_type": "code",
      "metadata": {
        "id": "C355gHdXqXpe",
        "colab_type": "code",
        "colab": {}
      },
      "source": [
        "# Laplace Smoothing\n",
        "laplace_spam = []\n",
        "laplace_norm = []\n",
        "\n",
        "for i in range(len(tokens)):\n",
        "    laplace_spam.append((spam_prior+spam_word[i])/(2*spam_prior+total_spam)*100)\n",
        "\n",
        "for i in range(len(tokens)):\n",
        "    laplace_norm.append((norm_prior+norm_word[i])/(2*norm_prior+total_norm)*100)"
      ],
      "execution_count": null,
      "outputs": []
    },
    {
      "cell_type": "code",
      "metadata": {
        "id": "val_rfvg0ZF5",
        "colab_type": "code",
        "colab": {
          "base_uri": "https://localhost:8080/",
          "height": 373
        },
        "outputId": "a9dc322f-9465-49cd-95d5-59a188c97a93"
      },
      "source": [
        "word_table = np.array([spam_word, norm_word, laplace_spam, laplace_norm])\n",
        "\n",
        "df = pd.DataFrame(word_table.T, index=tokens, columns=[\"spam\", \"normal\", \"P(w|spam)\", \"P(w|normal)\"])\n",
        "df.sort_index(axis=0)"
      ],
      "execution_count": null,
      "outputs": [
        {
          "output_type": "execute_result",
          "data": {
            "text/html": [
              "<div>\n",
              "<style scoped>\n",
              "    .dataframe tbody tr th:only-of-type {\n",
              "        vertical-align: middle;\n",
              "    }\n",
              "\n",
              "    .dataframe tbody tr th {\n",
              "        vertical-align: top;\n",
              "    }\n",
              "\n",
              "    .dataframe thead th {\n",
              "        text-align: right;\n",
              "    }\n",
              "</style>\n",
              "<table border=\"1\" class=\"dataframe\">\n",
              "  <thead>\n",
              "    <tr style=\"text-align: right;\">\n",
              "      <th></th>\n",
              "      <th>spam</th>\n",
              "      <th>normal</th>\n",
              "      <th>P(w|spam)</th>\n",
              "      <th>P(w|normal)</th>\n",
              "    </tr>\n",
              "  </thead>\n",
              "  <tbody>\n",
              "    <tr>\n",
              "      <th>award</th>\n",
              "      <td>0.0</td>\n",
              "      <td>1.0</td>\n",
              "      <td>4.545455</td>\n",
              "      <td>13.636364</td>\n",
              "    </tr>\n",
              "    <tr>\n",
              "      <th>contact</th>\n",
              "      <td>0.0</td>\n",
              "      <td>1.0</td>\n",
              "      <td>4.545455</td>\n",
              "      <td>13.636364</td>\n",
              "    </tr>\n",
              "    <tr>\n",
              "      <th>free</th>\n",
              "      <td>3.0</td>\n",
              "      <td>2.0</td>\n",
              "      <td>31.818182</td>\n",
              "      <td>22.727273</td>\n",
              "    </tr>\n",
              "    <tr>\n",
              "      <th>get</th>\n",
              "      <td>1.0</td>\n",
              "      <td>0.0</td>\n",
              "      <td>13.636364</td>\n",
              "      <td>4.545455</td>\n",
              "    </tr>\n",
              "    <tr>\n",
              "      <th>lottery</th>\n",
              "      <td>2.0</td>\n",
              "      <td>0.0</td>\n",
              "      <td>22.727273</td>\n",
              "      <td>4.545455</td>\n",
              "    </tr>\n",
              "    <tr>\n",
              "      <th>me</th>\n",
              "      <td>1.0</td>\n",
              "      <td>1.0</td>\n",
              "      <td>13.636364</td>\n",
              "      <td>13.636364</td>\n",
              "    </tr>\n",
              "    <tr>\n",
              "      <th>scholarship</th>\n",
              "      <td>0.0</td>\n",
              "      <td>1.0</td>\n",
              "      <td>4.545455</td>\n",
              "      <td>13.636364</td>\n",
              "    </tr>\n",
              "    <tr>\n",
              "      <th>ticket</th>\n",
              "      <td>1.0</td>\n",
              "      <td>0.0</td>\n",
              "      <td>13.636364</td>\n",
              "      <td>4.545455</td>\n",
              "    </tr>\n",
              "    <tr>\n",
              "      <th>to</th>\n",
              "      <td>0.0</td>\n",
              "      <td>1.0</td>\n",
              "      <td>4.545455</td>\n",
              "      <td>13.636364</td>\n",
              "    </tr>\n",
              "    <tr>\n",
              "      <th>won</th>\n",
              "      <td>0.0</td>\n",
              "      <td>1.0</td>\n",
              "      <td>4.545455</td>\n",
              "      <td>13.636364</td>\n",
              "    </tr>\n",
              "    <tr>\n",
              "      <th>you</th>\n",
              "      <td>2.0</td>\n",
              "      <td>2.0</td>\n",
              "      <td>22.727273</td>\n",
              "      <td>22.727273</td>\n",
              "    </tr>\n",
              "  </tbody>\n",
              "</table>\n",
              "</div>"
            ],
            "text/plain": [
              "             spam  normal  P(w|spam)  P(w|normal)\n",
              "award         0.0     1.0   4.545455    13.636364\n",
              "contact       0.0     1.0   4.545455    13.636364\n",
              "free          3.0     2.0  31.818182    22.727273\n",
              "get           1.0     0.0  13.636364     4.545455\n",
              "lottery       2.0     0.0  22.727273     4.545455\n",
              "me            1.0     1.0  13.636364    13.636364\n",
              "scholarship   0.0     1.0   4.545455    13.636364\n",
              "ticket        1.0     0.0  13.636364     4.545455\n",
              "to            0.0     1.0   4.545455    13.636364\n",
              "won           0.0     1.0   4.545455    13.636364\n",
              "you           2.0     2.0  22.727273    22.727273"
            ]
          },
          "metadata": {
            "tags": []
          },
          "execution_count": 22
        }
      ]
    },
    {
      "cell_type": "markdown",
      "metadata": {
        "id": "fPCZz0z2uwu1",
        "colab_type": "text"
      },
      "source": [
        "### **1-3. Log 이용**\n",
        "**Log의 성질을 활용. 곱셈을 덧셈으로 변환해 Underflow를 방지함**"
      ]
    },
    {
      "cell_type": "code",
      "metadata": {
        "id": "sTrBEC5_BIBw",
        "colab_type": "code",
        "colab": {}
      },
      "source": [
        "# 로그 이용 언더 플로우\n",
        "log_spam = []\n",
        "log_norm = []\n",
        "\n",
        "for i in range(len(tokens)):\n",
        "    log_spam.append(np.log(laplace_spam[i]/100))\n",
        "    log_norm.append(np.log(laplace_norm[i]/100))"
      ],
      "execution_count": null,
      "outputs": []
    },
    {
      "cell_type": "code",
      "metadata": {
        "id": "jfhaSmtQ8kpG",
        "colab_type": "code",
        "colab": {
          "base_uri": "https://localhost:8080/",
          "height": 373
        },
        "outputId": "3a8e0cfc-bfe4-408e-c619-d1181263a1cc"
      },
      "source": [
        "word_table = np.array([spam_word, norm_word, laplace_spam, laplace_norm, log_spam, log_norm])\n",
        "\n",
        "df = pd.DataFrame(word_table.T, index=tokens, columns=[\"spam\", \"normal\", \"P(w|spam)\", \"P(w|normal)\", \"Log(P(w|spam))\", \"Log(P(w|normal))\"])\n",
        "df.sort_index(axis=0)"
      ],
      "execution_count": null,
      "outputs": [
        {
          "output_type": "execute_result",
          "data": {
            "text/html": [
              "<div>\n",
              "<style scoped>\n",
              "    .dataframe tbody tr th:only-of-type {\n",
              "        vertical-align: middle;\n",
              "    }\n",
              "\n",
              "    .dataframe tbody tr th {\n",
              "        vertical-align: top;\n",
              "    }\n",
              "\n",
              "    .dataframe thead th {\n",
              "        text-align: right;\n",
              "    }\n",
              "</style>\n",
              "<table border=\"1\" class=\"dataframe\">\n",
              "  <thead>\n",
              "    <tr style=\"text-align: right;\">\n",
              "      <th></th>\n",
              "      <th>spam</th>\n",
              "      <th>normal</th>\n",
              "      <th>P(w|spam)</th>\n",
              "      <th>P(w|normal)</th>\n",
              "      <th>Log(P(w|spam))</th>\n",
              "      <th>Log(P(w|normal))</th>\n",
              "    </tr>\n",
              "  </thead>\n",
              "  <tbody>\n",
              "    <tr>\n",
              "      <th>award</th>\n",
              "      <td>0.0</td>\n",
              "      <td>1.0</td>\n",
              "      <td>4.545455</td>\n",
              "      <td>13.636364</td>\n",
              "      <td>-3.091042</td>\n",
              "      <td>-1.992430</td>\n",
              "    </tr>\n",
              "    <tr>\n",
              "      <th>contact</th>\n",
              "      <td>0.0</td>\n",
              "      <td>1.0</td>\n",
              "      <td>4.545455</td>\n",
              "      <td>13.636364</td>\n",
              "      <td>-3.091042</td>\n",
              "      <td>-1.992430</td>\n",
              "    </tr>\n",
              "    <tr>\n",
              "      <th>free</th>\n",
              "      <td>3.0</td>\n",
              "      <td>2.0</td>\n",
              "      <td>31.818182</td>\n",
              "      <td>22.727273</td>\n",
              "      <td>-1.145132</td>\n",
              "      <td>-1.481605</td>\n",
              "    </tr>\n",
              "    <tr>\n",
              "      <th>get</th>\n",
              "      <td>1.0</td>\n",
              "      <td>0.0</td>\n",
              "      <td>13.636364</td>\n",
              "      <td>4.545455</td>\n",
              "      <td>-1.992430</td>\n",
              "      <td>-3.091042</td>\n",
              "    </tr>\n",
              "    <tr>\n",
              "      <th>lottery</th>\n",
              "      <td>2.0</td>\n",
              "      <td>0.0</td>\n",
              "      <td>22.727273</td>\n",
              "      <td>4.545455</td>\n",
              "      <td>-1.481605</td>\n",
              "      <td>-3.091042</td>\n",
              "    </tr>\n",
              "    <tr>\n",
              "      <th>me</th>\n",
              "      <td>1.0</td>\n",
              "      <td>1.0</td>\n",
              "      <td>13.636364</td>\n",
              "      <td>13.636364</td>\n",
              "      <td>-1.992430</td>\n",
              "      <td>-1.992430</td>\n",
              "    </tr>\n",
              "    <tr>\n",
              "      <th>scholarship</th>\n",
              "      <td>0.0</td>\n",
              "      <td>1.0</td>\n",
              "      <td>4.545455</td>\n",
              "      <td>13.636364</td>\n",
              "      <td>-3.091042</td>\n",
              "      <td>-1.992430</td>\n",
              "    </tr>\n",
              "    <tr>\n",
              "      <th>ticket</th>\n",
              "      <td>1.0</td>\n",
              "      <td>0.0</td>\n",
              "      <td>13.636364</td>\n",
              "      <td>4.545455</td>\n",
              "      <td>-1.992430</td>\n",
              "      <td>-3.091042</td>\n",
              "    </tr>\n",
              "    <tr>\n",
              "      <th>to</th>\n",
              "      <td>0.0</td>\n",
              "      <td>1.0</td>\n",
              "      <td>4.545455</td>\n",
              "      <td>13.636364</td>\n",
              "      <td>-3.091042</td>\n",
              "      <td>-1.992430</td>\n",
              "    </tr>\n",
              "    <tr>\n",
              "      <th>won</th>\n",
              "      <td>0.0</td>\n",
              "      <td>1.0</td>\n",
              "      <td>4.545455</td>\n",
              "      <td>13.636364</td>\n",
              "      <td>-3.091042</td>\n",
              "      <td>-1.992430</td>\n",
              "    </tr>\n",
              "    <tr>\n",
              "      <th>you</th>\n",
              "      <td>2.0</td>\n",
              "      <td>2.0</td>\n",
              "      <td>22.727273</td>\n",
              "      <td>22.727273</td>\n",
              "      <td>-1.481605</td>\n",
              "      <td>-1.481605</td>\n",
              "    </tr>\n",
              "  </tbody>\n",
              "</table>\n",
              "</div>"
            ],
            "text/plain": [
              "             spam  normal  ...  Log(P(w|spam))  Log(P(w|normal))\n",
              "award         0.0     1.0  ...       -3.091042         -1.992430\n",
              "contact       0.0     1.0  ...       -3.091042         -1.992430\n",
              "free          3.0     2.0  ...       -1.145132         -1.481605\n",
              "get           1.0     0.0  ...       -1.992430         -3.091042\n",
              "lottery       2.0     0.0  ...       -1.481605         -3.091042\n",
              "me            1.0     1.0  ...       -1.992430         -1.992430\n",
              "scholarship   0.0     1.0  ...       -3.091042         -1.992430\n",
              "ticket        1.0     0.0  ...       -1.992430         -3.091042\n",
              "to            0.0     1.0  ...       -3.091042         -1.992430\n",
              "won           0.0     1.0  ...       -3.091042         -1.992430\n",
              "you           2.0     2.0  ...       -1.481605         -1.481605\n",
              "\n",
              "[11 rows x 6 columns]"
            ]
          },
          "metadata": {
            "tags": []
          },
          "execution_count": 31
        }
      ]
    },
    {
      "cell_type": "markdown",
      "metadata": {
        "id": "fJnwm6BqzKni",
        "colab_type": "text"
      },
      "source": [
        "### **1-4. 스팸 확률 구하기**"
      ]
    },
    {
      "cell_type": "code",
      "metadata": {
        "id": "YNzH3uRrAjbr",
        "colab_type": "code",
        "colab": {
          "base_uri": "https://localhost:8080/",
          "height": 34
        },
        "outputId": "3df33331-4f3e-4e5e-9fe7-a6b3a91f57b7"
      },
      "source": [
        "# 스팸 필터링 : 입력값\n",
        "check_list = \"free lottery\"\n",
        "\n",
        "check_token = []\n",
        "\n",
        "check_token.append(check_list.split(\" \"))\n",
        "\n",
        "check_token"
      ],
      "execution_count": null,
      "outputs": [
        {
          "output_type": "execute_result",
          "data": {
            "text/plain": [
              "[['free', 'lottery']]"
            ]
          },
          "metadata": {
            "tags": []
          },
          "execution_count": 225
        }
      ]
    },
    {
      "cell_type": "code",
      "metadata": {
        "id": "9tLr93uOzQGf",
        "colab_type": "code",
        "colab": {
          "base_uri": "https://localhost:8080/",
          "height": 34
        },
        "outputId": "0501647e-03b7-4572-d07c-f995292d9396"
      },
      "source": [
        "# 입력 토큰 로그들의 합\n",
        "import math\n",
        "\n",
        "spam_filter = 0\n",
        "norm_filter = 0\n",
        "\n",
        "for i in range(len(check_token[0])):\n",
        "    spam_filter += df['Log(P(w|spam))'][check_token[0][i]]\n",
        "    norm_filter += df['Log(P(w|normal))'][check_token[0][i]]\n",
        "\n",
        "spam_filter, norm_filter"
      ],
      "execution_count": null,
      "outputs": [
        {
          "output_type": "execute_result",
          "data": {
            "text/plain": [
              "(-2.626736845227218, -4.572646994282531)"
            ]
          },
          "metadata": {
            "tags": []
          },
          "execution_count": 67
        }
      ]
    },
    {
      "cell_type": "code",
      "metadata": {
        "id": "OwABYH2V0AJe",
        "colab_type": "code",
        "colab": {
          "base_uri": "https://localhost:8080/",
          "height": 34
        },
        "outputId": "b524680f-796b-4d3a-fafb-79f9b7118c52"
      },
      "source": [
        "# 입력 토큰 로그합과 사전확률 로그의 합\n",
        "spam_filter = math.exp(spam_filter + np.log(spam_prior))\n",
        "norm_filter = math.exp(norm_filter + np.log(norm_prior))\n",
        "\n",
        "spam_filter, norm_filter"
      ],
      "execution_count": null,
      "outputs": [
        {
          "output_type": "execute_result",
          "data": {
            "text/plain": [
              "(0.03615702479338842, 0.00516528925619835)"
            ]
          },
          "metadata": {
            "tags": []
          },
          "execution_count": 68
        }
      ]
    },
    {
      "cell_type": "code",
      "metadata": {
        "id": "0wZhNqKv2xuB",
        "colab_type": "code",
        "colab": {
          "base_uri": "https://localhost:8080/",
          "height": 34
        },
        "outputId": "b5994163-bfbc-4713-d017-6ca8754295f8"
      },
      "source": [
        "# 스팸/정상 메일일 확률\n",
        "spam_prob = spam_filter / (spam_filter + norm_filter)\n",
        "norm_prob = norm_filter / (spam_filter + norm_filter)\n",
        "\n",
        "spam_prob, norm_prob"
      ],
      "execution_count": null,
      "outputs": [
        {
          "output_type": "execute_result",
          "data": {
            "text/plain": [
              "(0.8749999999999999, 0.12500000000000008)"
            ]
          },
          "metadata": {
            "tags": []
          },
          "execution_count": 69
        }
      ]
    },
    {
      "cell_type": "markdown",
      "metadata": {
        "id": "Vmh12tB_5EyO",
        "colab_type": "text"
      },
      "source": [
        "### **1-5. 최종 결과**"
      ]
    },
    {
      "cell_type": "code",
      "metadata": {
        "id": "ccTMHNWL3pBX",
        "colab_type": "code",
        "colab": {
          "base_uri": "https://localhost:8080/",
          "height": 52
        },
        "outputId": "50541d58-8ad8-493e-b685-f93e058b126f"
      },
      "source": [
        "print(\"{}라는 토큰이 있는 메일이 스팸일 확률 : {:.2f}%\".format(check_list, spam_prob*100))\n",
        "print(\"{}라는 토큰이 있는 메일이 정상일 확률 : {:.2f}%\".format(check_list, norm_prob*100))"
      ],
      "execution_count": null,
      "outputs": [
        {
          "output_type": "stream",
          "text": [
            "free lottery라는 토큰이 있는 메일이 스팸일 확률 : 87.50%\n",
            "free lottery라는 토큰이 있는 메일이 정상일 확률 : 12.50%\n"
          ],
          "name": "stdout"
        }
      ]
    },
    {
      "cell_type": "markdown",
      "metadata": {
        "id": "d1O5JseJ5_Bi",
        "colab_type": "text"
      },
      "source": [
        "## **2. Class를 이용한 Naive Bayes Classifier 구현**"
      ]
    },
    {
      "cell_type": "code",
      "metadata": {
        "id": "8UBtGW3W4MH6",
        "colab_type": "code",
        "colab": {}
      },
      "source": [
        "import pandas as pd\n",
        "import numpy as np\n",
        "import math\n",
        "\n",
        "class NBC():\n",
        "    def __init__(self, mail, mail_type): #check_list\n",
        "        self.mail = mail\n",
        "        self.mail_type = mail_type\n",
        "        self.lines = []\n",
        "        self.tokens = []\n",
        "        self.mail_classify = {}\n",
        "        self.spam_prior = 0\n",
        "        self.norm_prior = 0\n",
        "        self.spam_word = []\n",
        "        self.norm_word = []\n",
        "        self.total_spam = 0\n",
        "        self.total_norm = 0\n",
        "        self.df = []\n",
        "        self.laplace_spam = []\n",
        "        self.laplace_norm = []\n",
        "        self.log_spam = []\n",
        "        self.log_norm = []\n",
        "        self.check_token = []\n",
        "        self.spam_filter = 0\n",
        "        self.norm_filter = 0\n",
        "        self.spam_prob = 0\n",
        "        self.nrom_prob = 0\n",
        "\n",
        "    # 각 문장 토큰화와 단어 뭉칭 생성\n",
        "    def split_mail(self):\n",
        "        for i in range(len(self.mail)):\n",
        "            self.lines.append(self.mail[i].split(\" \"))\n",
        "            # 단어 뭉치 생성\n",
        "            for word in self.lines[i]:\n",
        "                self.tokens.append(word)\n",
        "        self.tokens = list(set(self.tokens))\n",
        "        \n",
        "        return self.lines, self.tokens\n",
        "\n",
        "    # 메일 분류 확인\n",
        "    def mail_classifier(self):\n",
        "        self.mail_classify = {\"메일\" : self.lines, \"분류\": self.mail_type}\n",
        "        self.df = pd.DataFrame(self.mail_classify)\n",
        "\n",
        "        return self.df\n",
        "\n",
        "    # 사전 확률과 토큰별 메일 개수 계산\n",
        "    def count_mail(self):\n",
        "        for i in range(len(self.tokens)):\n",
        "            count_spam = 0\n",
        "            count_norm = 0\n",
        "            num_spam = 0\n",
        "            num_norm = 0\n",
        "            for j in range(len(self.lines)):\n",
        "                if self.mail_classify[\"분류\"][j] == \"spam\":\n",
        "                    num_spam += 1\n",
        "                    if self.tokens[i] in self.lines[j]:\n",
        "                        count_spam += self.lines[j].count(self.tokens[i])\n",
        "                if self.mail_classify[\"분류\"][j] == \"normal\":\n",
        "                    num_norm += 1\n",
        "                    if self.tokens[i] in self.lines[j]:\n",
        "                        count_norm += self.lines[j].count(self.tokens[i])\n",
        "            # 단어별 스팸, 정상 메일 개수 계산\n",
        "            self.spam_word.append(count_spam)\n",
        "            self.norm_word.append(count_norm)\n",
        "            # 총 스팸, 정상 단어 개수\n",
        "            self.total_spam += count_spam\n",
        "            self.total_norm += count_norm\n",
        "        #총 메일 개수\n",
        "        self.num_total = num_spam + num_norm\n",
        "        # 사전 확률 계산\n",
        "        self.norm_prior = num_norm / self.num_total\n",
        "        self.spam_prior = num_spam / self.num_total\n",
        "\n",
        "        return self.num_total, self.spam_prior, self.norm_prior, self.total_spam, self.total_norm\n",
        "\n",
        "    # Laplace Smoothing 계산\n",
        "    def laplace_smoothing(self):\n",
        "        for i in range(len(self.tokens)):\n",
        "            self.laplace_spam.append((self.spam_prior+self.spam_word[i])/(2*self.spam_prior+self.total_spam)*100)\n",
        "        for i in range(len(self.tokens)):\n",
        "            self.laplace_norm.append((self.norm_prior+self.norm_word[i])/(2*self.norm_prior+self.total_norm)*100)\n",
        "        # 결과 출력\n",
        "        word_table = np.array([self.spam_word, self.norm_word, self.laplace_spam, self.laplace_norm])\n",
        "        df = pd.DataFrame(word_table.T, index=self.tokens, columns=[\"spam\", \"normal\", \"P(w|spam)\", \"P(w|normal)\"])\n",
        "        \n",
        "        return df.sort_index(axis=0)\n",
        "\n",
        "    # 로그 이용 언더 플로우\n",
        "    def log_calculate(self):\n",
        "        for i in range(len(self.tokens)):\n",
        "            self.log_spam.append(np.log(self.laplace_spam[i]/100))\n",
        "            self.log_norm.append(np.log(self.laplace_norm[i]/100))\n",
        "        # 결과 출력\n",
        "        word_table = np.array([self.spam_word, self.norm_word, self.laplace_spam, self.laplace_norm, self.log_spam, self.log_norm])\n",
        "        self.df = pd.DataFrame(word_table.T, index=self.tokens, columns=[\"spam\", \"normal\", \"P(w|spam)\", \"P(w|normal)\", \"Log(P(w|spam))\", \"Log(P(w|normal))\"])\n",
        "        \n",
        "        return self.df.sort_index(axis=0)\n",
        "\n",
        "    # 스팸 필터링 : 입력값\n",
        "    def list_check(self, check_list):\n",
        "        self.check_token.append(check_list.split(\" \"))\n",
        "\n",
        "        return self.check_token\n",
        "\n",
        "    # 스팸 필터링\n",
        "    def spam_filtering(self):\n",
        "        for i in range(len(self.check_token[0])):\n",
        "            self.spam_filter += self.df['Log(P(w|spam))'][self.check_token[0][i]]\n",
        "            self.norm_filter += self.df['Log(P(w|normal))'][self.check_token[0][i]]\n",
        "        # 입력 토큰 로그합과 사전확률 로그의 합\n",
        "        self.spam_filter = math.exp(self.spam_filter + np.log(self.spam_prior))\n",
        "        self.norm_filter = math.exp(self.norm_filter + np.log(self.norm_prior))\n",
        "\n",
        "        return self.spam_filter, self.norm_filter\n",
        "    \n",
        "    # 스팸/정상 메일일 확률\n",
        "    def spam_probability(self):\n",
        "        self.spam_prob = self.spam_filter / (self.spam_filter + self.norm_filter)\n",
        "        self.norm_prob = self.norm_filter / (self.spam_filter + self.norm_filter)\n",
        "\n",
        "        return self.spam_prob, self.norm_prob\n",
        "\n",
        "    # 결과값 출력\n",
        "    def spam_result(self):\n",
        "        print(\"{}라는 토큰이 있는 메일이 스팸일 확률 : {:.2f}%\".format(self.check_token, self.spam_prob*100))\n",
        "        print(\"{}라는 토큰이 있는 메일이 정상일 확률 : {:.2f}%\".format(self.check_token, self.norm_prob*100))\n",
        "\n",
        "    def run(self, check_list):\n",
        "        self.split_mail()\n",
        "        self.mail_classifier()\n",
        "        self.count_mail()\n",
        "        self.laplace_smoothing()\n",
        "        self.log_calculate()\n",
        "        self.list_check(check_list)\n",
        "        self.spam_filtering()\n",
        "        self.spam_probability()\n",
        "        self.spam_result()"
      ],
      "execution_count": null,
      "outputs": []
    },
    {
      "cell_type": "code",
      "metadata": {
        "id": "wXVObQJK6-2a",
        "colab_type": "code",
        "colab": {}
      },
      "source": [
        "# 메일과 메일의 종류 데이터\n",
        "mail = ['me free lottery',\n",
        "        'free get free you',\n",
        "        'you free scholarship',\n",
        "        'free to contact me',\n",
        "        'you won award',\n",
        "        'you ticket lottery']\n",
        "\n",
        "mail_type = [\"spam\", \"spam\", \"normal\", \"normal\", \"normal\", \"spam\"]\n",
        "\n",
        "check = \"free ticket\""
      ],
      "execution_count": null,
      "outputs": []
    },
    {
      "cell_type": "code",
      "metadata": {
        "id": "XTDLhz9s7r7z",
        "colab_type": "code",
        "colab": {}
      },
      "source": [
        "nbc = NBC(mail, mail_type)"
      ],
      "execution_count": null,
      "outputs": []
    },
    {
      "cell_type": "code",
      "metadata": {
        "id": "qOdkwrfc_Vh7",
        "colab_type": "code",
        "colab": {
          "base_uri": "https://localhost:8080/",
          "height": 52
        },
        "outputId": "8c164dbd-2b68-48ae-cf0c-8aaddfe93e50"
      },
      "source": [
        "nbc.run(check)"
      ],
      "execution_count": null,
      "outputs": [
        {
          "output_type": "stream",
          "text": [
            "[['free', 'ticket']]라는 토큰이 있는 메일이 스팸일 확률 : 80.77%\n",
            "[['free', 'ticket']]라는 토큰이 있는 메일이 정상일 확률 : 19.23%\n"
          ],
          "name": "stdout"
        }
      ]
    },
    {
      "cell_type": "code",
      "metadata": {
        "id": "7pryoCcPJn99",
        "colab_type": "code",
        "colab": {}
      },
      "source": [
        ""
      ],
      "execution_count": null,
      "outputs": []
    }
  ]
}