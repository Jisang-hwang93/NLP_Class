{
 "metadata": {
  "language_info": {
   "codemirror_mode": {
    "name": "ipython",
    "version": 3
   },
   "file_extension": ".py",
   "mimetype": "text/x-python",
   "name": "python",
   "nbconvert_exporter": "python",
   "pygments_lexer": "ipython3",
   "version": "3.8.5"
  },
  "orig_nbformat": 2,
  "kernelspec": {
   "name": "python385jvsc74a57bd0b3ba2566441a7c06988d0923437866b63cedc61552a5af99d1f4fb67d367b25f",
   "display_name": "Python 3.8.5 64-bit ('base': conda)"
  }
 },
 "nbformat": 4,
 "nbformat_minor": 2,
 "cells": [
  {
   "source": [
    "### **TextRank**"
   ],
   "cell_type": "markdown",
   "metadata": {}
  },
  {
   "cell_type": "code",
   "execution_count": 4,
   "metadata": {},
   "outputs": [
    {
     "output_type": "stream",
     "name": "stdout",
     "text": [
      "======= 핵심 키워드 =======\n사과 : 1.6085\n파인애플 : 0.6057\n키위 : 0.6379\n바나나 : 1.1479\n"
     ]
    }
   ],
   "source": [
    "from textrank import TextRank\n",
    "sent = [\"키위\", \"바나나\", \"사과\", \"파인애플\", \"사과\", \"사과\"]\n",
    "tr = TextRank(sent)\n",
    "tr.run()\n",
    "\n",
    "print(\"======= 핵심 키워드 =======\")\n",
    "for i in range(len(tr.textrank_score)):\n",
    "    print(\"{} : {:.4f}\".format(tr.node[i], tr.textrank_score[i]))"
   ]
  }
 ]
}