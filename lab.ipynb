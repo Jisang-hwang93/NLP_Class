{
 "metadata": {
  "language_info": {
   "codemirror_mode": {
    "name": "ipython",
    "version": 3
   },
   "file_extension": ".py",
   "mimetype": "text/x-python",
   "name": "python",
   "nbconvert_exporter": "python",
   "pygments_lexer": "ipython3",
   "version": "3.8.5"
  },
  "orig_nbformat": 2,
  "kernelspec": {
   "name": "python385jvsc74a57bd0b3ba2566441a7c06988d0923437866b63cedc61552a5af99d1f4fb67d367b25f",
   "display_name": "Python 3.8.5 64-bit ('base': conda)"
  }
 },
 "nbformat": 4,
 "nbformat_minor": 2,
 "cells": [
  {
   "source": [
    "### **TF-IDF**"
   ],
   "cell_type": "markdown",
   "metadata": {}
  },
  {
   "cell_type": "code",
   "execution_count": 40,
   "metadata": {},
   "outputs": [
    {
     "output_type": "stream",
     "name": "stdout",
     "text": [
      "=========== doc 1 ===========\n      TF       idf    TF-IDF\nThe    1  0.000000  0.000000\ncat    2  0.693147  1.386294\nsat    1  0.000000  0.000000\non     1  0.000000  0.000000\nmy     1  0.000000  0.000000\nface   1  0.693147  0.693147\nI      1  0.000000  0.000000\nhate   1  0.693147  0.693147\na      1  0.000000  0.000000\ndog    0  0.693147  0.000000\nbed    0  0.693147  0.000000\nlove   0  0.693147  0.000000\n=========== doc 2 ===========\n      TF       idf    TF-IDF\nThe    1  0.000000  0.000000\ncat    0  0.693147  0.000000\nsat    1  0.000000  0.000000\non     1  0.000000  0.000000\nmy     1  0.000000  0.000000\nface   0  0.693147  0.000000\nI      1  0.000000  0.000000\nhate   0  0.693147  0.000000\na      1  0.000000  0.000000\ndog    2  0.693147  1.386294\nbed    1  0.693147  0.693147\nlove   1  0.693147  0.693147\n"
     ]
    }
   ],
   "source": [
    "import pandas as pd\n",
    "\n",
    "from tf_idf import Tf_Idf\n",
    "doc = [\"The cat sat on my face I hate a cat\", \"The dog sat on my bed I love a dog\"]\n",
    "tfidf = Tf_Idf()\n",
    "tfidf._make_bow(doc)\n",
    "tfidf.run()\n",
    "word_ls = list(tfidf.word2index.keys())\n",
    "\n",
    "for i in range(len(doc)):\n",
    "    print(\"=========== doc {} ===========\".format(i+1))\n",
    "    df = pd.concat([pd.DataFrame(tfidf.tf[i], index=word_ls, columns=['TF']),\n",
    "                    pd.DataFrame(tfidf.idf, index=word_ls, columns=['idf']),\n",
    "                    pd.DataFrame(tfidf.tf_idf[i],  index=word_ls, columns=['TF-IDF'])],\n",
    "                axis=1)\n",
    "    print(df)"
   ]
  },
  {
   "source": [
    "### **TextRank**"
   ],
   "cell_type": "markdown",
   "metadata": {}
  },
  {
   "cell_type": "code",
   "execution_count": 4,
   "metadata": {},
   "outputs": [
    {
     "output_type": "stream",
     "name": "stdout",
     "text": [
      "======= 핵심 키워드 =======\n사과 : 1.6085\n파인애플 : 0.6057\n키위 : 0.6379\n바나나 : 1.1479\n"
     ]
    }
   ],
   "source": [
    "from textrank import TextRank\n",
    "sent = [\"키위\", \"바나나\", \"사과\", \"파인애플\", \"사과\", \"사과\"]\n",
    "tr = TextRank(sent)\n",
    "tr.run()\n",
    "\n",
    "print(\"======= 핵심 키워드 =======\")\n",
    "for i in range(len(tr.textrank_score)):\n",
    "    print(\"{} : {:.4f}\".format(tr.node[i], tr.textrank_score[i]))"
   ]
  }
 ]
}