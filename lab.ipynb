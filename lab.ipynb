{
 "metadata": {
  "language_info": {
   "codemirror_mode": {
    "name": "ipython",
    "version": 3
   },
   "file_extension": ".py",
   "mimetype": "text/x-python",
   "name": "python",
   "nbconvert_exporter": "python",
   "pygments_lexer": "ipython3",
   "version": "3.8.5"
  },
  "orig_nbformat": 2,
  "kernelspec": {
   "name": "python385jvsc74a57bd0b3ba2566441a7c06988d0923437866b63cedc61552a5af99d1f4fb67d367b25f",
   "display_name": "Python 3.8.5 64-bit ('base': conda)"
  }
 },
 "nbformat": 4,
 "nbformat_minor": 2,
 "cells": [
  {
   "source": [
    "### **Term Frequency-Invers Document Frequency**"
   ],
   "cell_type": "markdown",
   "metadata": {}
  },
  {
   "cell_type": "code",
   "execution_count": 46,
   "metadata": {},
   "outputs": [
    {
     "output_type": "execute_result",
     "data": {
      "text/plain": [
       "      0         1\n",
       "0   1.0  0.000000\n",
       "1   2.0  0.810930\n",
       "2   1.0  0.000000\n",
       "3   1.0  0.000000\n",
       "4   1.0  0.000000\n",
       "5   1.0  1.098612\n",
       "6   1.0  0.405465\n",
       "7   1.0  1.098612\n",
       "8   1.0  0.405465\n",
       "9   0.0  0.000000\n",
       "10  0.0  0.000000\n",
       "11  0.0  0.000000\n",
       "12  0.0  0.000000\n",
       "13  0.0  0.000000"
      ],
      "text/html": "<div>\n<style scoped>\n    .dataframe tbody tr th:only-of-type {\n        vertical-align: middle;\n    }\n\n    .dataframe tbody tr th {\n        vertical-align: top;\n    }\n\n    .dataframe thead th {\n        text-align: right;\n    }\n</style>\n<table border=\"1\" class=\"dataframe\">\n  <thead>\n    <tr style=\"text-align: right;\">\n      <th></th>\n      <th>0</th>\n      <th>1</th>\n    </tr>\n  </thead>\n  <tbody>\n    <tr>\n      <th>0</th>\n      <td>1.0</td>\n      <td>0.000000</td>\n    </tr>\n    <tr>\n      <th>1</th>\n      <td>2.0</td>\n      <td>0.810930</td>\n    </tr>\n    <tr>\n      <th>2</th>\n      <td>1.0</td>\n      <td>0.000000</td>\n    </tr>\n    <tr>\n      <th>3</th>\n      <td>1.0</td>\n      <td>0.000000</td>\n    </tr>\n    <tr>\n      <th>4</th>\n      <td>1.0</td>\n      <td>0.000000</td>\n    </tr>\n    <tr>\n      <th>5</th>\n      <td>1.0</td>\n      <td>1.098612</td>\n    </tr>\n    <tr>\n      <th>6</th>\n      <td>1.0</td>\n      <td>0.405465</td>\n    </tr>\n    <tr>\n      <th>7</th>\n      <td>1.0</td>\n      <td>1.098612</td>\n    </tr>\n    <tr>\n      <th>8</th>\n      <td>1.0</td>\n      <td>0.405465</td>\n    </tr>\n    <tr>\n      <th>9</th>\n      <td>0.0</td>\n      <td>0.000000</td>\n    </tr>\n    <tr>\n      <th>10</th>\n      <td>0.0</td>\n      <td>0.000000</td>\n    </tr>\n    <tr>\n      <th>11</th>\n      <td>0.0</td>\n      <td>0.000000</td>\n    </tr>\n    <tr>\n      <th>12</th>\n      <td>0.0</td>\n      <td>0.000000</td>\n    </tr>\n    <tr>\n      <th>13</th>\n      <td>0.0</td>\n      <td>0.000000</td>\n    </tr>\n  </tbody>\n</table>\n</div>"
     },
     "metadata": {},
     "execution_count": 46
    }
   ],
   "source": [
    "import pandas as pd\n",
    "\n",
    "from common.tf_idf import Tf_Idf\n",
    "\n",
    "docs = [\"The cat sat on my face I hate a cat\", \"The dog sat on my bed I love a dog\", \"The bear sat on my bed bear kill my cat\"]\n",
    "tfidf = Tf_Idf(docs)\n",
    "word_ls = tfidf.word2index\n",
    "tf = tfidf.make_bow()\n",
    "tf_idf = tfidf.calculate_tfidf()\n",
    "# for i in range(len(tfidf.docs_token)):\n",
    "#     print(\"=========== doc {} ===========\".format(i))\n",
    "#     df = pd.concat((pd.DataFrame(tfidf.make_bow()[i], index=tfidf.word2index, columns=['TF'])))#, pd.DataFrame(tfidf.calculate_tfidf()[i],  index=tfidf.word2index, columns=['TF-IDF'])), axis=1)\n",
    "    # pd.DataFrame(idf, index=word_ls, columns=['idf']),\n",
    "#     print(df)\n",
    "# tfidf.make_bow()\n",
    "#pd.concat((\n",
    "pd.DataFrame([tf[0], tf_idf[0]]).T"
   ]
  },
  {
   "cell_type": "code",
   "execution_count": null,
   "metadata": {},
   "outputs": [],
   "source": []
  }
 ]
}