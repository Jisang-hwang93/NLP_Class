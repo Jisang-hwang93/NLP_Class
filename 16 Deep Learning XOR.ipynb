{
  "nbformat": 4,
  "nbformat_minor": 0,
  "metadata": {
    "colab": {
      "name": "16 Deep Learning XOR.ipynb",
      "provenance": [],
      "authorship_tag": "ABX9TyMX65FprEg8fPkCwUw5eblx",
      "include_colab_link": true
    },
    "kernelspec": {
      "name": "python3",
      "display_name": "Python 3"
    }
  },
  "cells": [
    {
      "cell_type": "markdown",
      "metadata": {
        "id": "view-in-github",
        "colab_type": "text"
      },
      "source": [
        "<a href=\"https://colab.research.google.com/github/jisang93/NLP_Class/blob/master/16%20Deep%20Learning%20XOR.ipynb\" target=\"_parent\"><img src=\"https://colab.research.google.com/assets/colab-badge.svg\" alt=\"Open In Colab\"/></a>"
      ]
    },
    {
      "cell_type": "code",
      "metadata": {
        "id": "njK4nhyEKipp",
        "colab_type": "code",
        "colab": {
          "base_uri": "https://localhost:8080/",
          "height": 52
        },
        "outputId": "e45cf9d0-74ff-4b15-afb1-01ae3e572c3d"
      },
      "source": [
        "import numpy as np\n",
        "\n",
        "# X, Y 값\n",
        "X = np.array([[0, 0, 1, 1], [0, 1, 0, 1]])\n",
        "Y = np.array([[0, 1, 1, 0]])\n",
        "\n",
        "X, Y"
      ],
      "execution_count": 33,
      "outputs": [
        {
          "output_type": "execute_result",
          "data": {
            "text/plain": [
              "(array([[0, 0, 1, 1],\n",
              "        [0, 1, 0, 1]]), array([[0, 1, 1, 0]]))"
            ]
          },
          "metadata": {
            "tags": []
          },
          "execution_count": 33
        }
      ]
    },
    {
      "cell_type": "code",
      "metadata": {
        "id": "rDvabqSyK5dH",
        "colab_type": "code",
        "colab": {}
      },
      "source": [
        "# # X-히든 레이어 가중치\n",
        "# h1 = np.random.rand(2, 2)\n",
        "# h1_bias = np.random.rand(1, 2)\n",
        "\n",
        "# # 히든 레이너-Y 가중치\n",
        "# h2 = np.random.rand(2, 1)\n",
        "# h2_bias = np.random.rand(1, 1)\n",
        "\n",
        "# h1, h2, h1_bias, h2_bias\n",
        "h1_weight = np.array([[-0.89, 0.028], [0.098, -0.07]])\n",
        "h1_bias = np.array([[0.092], [-0.01]])\n",
        "\n",
        "h2_weight = np.array([[0.056], [0.067]])\n",
        "h2_bias = np.array([[0.016]])"
      ],
      "execution_count": 34,
      "outputs": []
    },
    {
      "cell_type": "code",
      "metadata": {
        "id": "yDTVmmvzbbOq",
        "colab_type": "code",
        "colab": {
          "base_uri": "https://localhost:8080/",
          "height": 52
        },
        "outputId": "962298c4-4d40-4709-a93a-4368e2cbb25a"
      },
      "source": [
        "# X*Weight + Bias*Weight\n",
        "h1_cal = np.dot(h1_weight, X) + h1_bias\n",
        "\n",
        "h1_cal"
      ],
      "execution_count": 35,
      "outputs": [
        {
          "output_type": "execute_result",
          "data": {
            "text/plain": [
              "array([[ 0.092,  0.12 , -0.798, -0.77 ],\n",
              "       [-0.01 , -0.08 ,  0.088,  0.018]])"
            ]
          },
          "metadata": {
            "tags": []
          },
          "execution_count": 35
        }
      ]
    },
    {
      "cell_type": "code",
      "metadata": {
        "id": "lSJmP9NlU0uT",
        "colab_type": "code",
        "colab": {
          "base_uri": "https://localhost:8080/",
          "height": 52
        },
        "outputId": "50ab964c-b461-4c13-e5a8-188f9e81fff5"
      },
      "source": [
        "# 시그모이드 함수\n",
        "def sigmoid(x):\n",
        "\treturn 1 / (1 + np.exp(-x))\n",
        " \n",
        "h1_sig = sigmoid(h1_cal)\n",
        "h1_sig"
      ],
      "execution_count": 36,
      "outputs": [
        {
          "output_type": "execute_result",
          "data": {
            "text/plain": [
              "array([[0.52298379, 0.52996405, 0.3104535 , 0.31647911],\n",
              "       [0.49750002, 0.48001066, 0.52198581, 0.50449988]])"
            ]
          },
          "metadata": {
            "tags": []
          },
          "execution_count": 36
        }
      ]
    },
    {
      "cell_type": "code",
      "metadata": {
        "id": "OU5W5T2uhtv7",
        "colab_type": "code",
        "colab": {
          "base_uri": "https://localhost:8080/",
          "height": 87
        },
        "outputId": "5109f465-a301-4643-d259-a81921423223"
      },
      "source": [
        "h2_cal = np.dot(h1_sig.T, h2_weight) + h2_bias\n",
        "h2_cal"
      ],
      "execution_count": 37,
      "outputs": [
        {
          "output_type": "execute_result",
          "data": {
            "text/plain": [
              "array([[0.07861959],\n",
              "       [0.0778387 ],\n",
              "       [0.06835845],\n",
              "       [0.06752432]])"
            ]
          },
          "metadata": {
            "tags": []
          },
          "execution_count": 37
        }
      ]
    },
    {
      "cell_type": "code",
      "metadata": {
        "id": "n5F2Idy2hvZS",
        "colab_type": "code",
        "colab": {
          "base_uri": "https://localhost:8080/",
          "height": 87
        },
        "outputId": "4d5061f9-53de-4798-e00a-1bfd0ad87bc6"
      },
      "source": [
        "predict = sigmoid(h2_cal)\n",
        "predict"
      ],
      "execution_count": 38,
      "outputs": [
        {
          "output_type": "execute_result",
          "data": {
            "text/plain": [
              "array([[0.51964478],\n",
              "       [0.51944986],\n",
              "       [0.51708296],\n",
              "       [0.51687467]])"
            ]
          },
          "metadata": {
            "tags": []
          },
          "execution_count": 38
        }
      ]
    },
    {
      "cell_type": "code",
      "metadata": {
        "id": "0JIpmhOOh_yj",
        "colab_type": "code",
        "colab": {
          "base_uri": "https://localhost:8080/",
          "height": 87
        },
        "outputId": "88219aaf-c0af-4bcb-a4c4-232690452fbd"
      },
      "source": [
        "diff = Y.T - predict\n",
        "diff"
      ],
      "execution_count": 39,
      "outputs": [
        {
          "output_type": "execute_result",
          "data": {
            "text/plain": [
              "array([[-0.51964478],\n",
              "       [ 0.48055014],\n",
              "       [ 0.48291704],\n",
              "       [-0.51687467]])"
            ]
          },
          "metadata": {
            "tags": []
          },
          "execution_count": 39
        }
      ]
    },
    {
      "cell_type": "code",
      "metadata": {
        "id": "1Vqsm81RSB_r",
        "colab_type": "code",
        "colab": {
          "base_uri": "https://localhost:8080/",
          "height": 34
        },
        "outputId": "f34d5e51-2b81-414c-a28f-5369b352c5d7"
      },
      "source": [
        "def loss(r, p):\n",
        "   return -((np.dot(r, np.log(p)) + np.dot((1 - r), np.log(1-p)))/len(r[0]))[0][0]\n",
        "\n",
        "L = loss(Y, predict)\n",
        "L"
      ],
      "execution_count": 48,
      "outputs": [
        {
          "output_type": "execute_result",
          "data": {
            "text/plain": [
              "0.6938113835190924"
            ]
          },
          "metadata": {
            "tags": []
          },
          "execution_count": 48
        }
      ]
    },
    {
      "cell_type": "code",
      "metadata": {
        "id": "vMwofOevpoBZ",
        "colab_type": "code",
        "colab": {
          "base_uri": "https://localhost:8080/",
          "height": 52
        },
        "outputId": "d4726f0f-bd88-42f8-b86f-52574a7e3c0d"
      },
      "source": [
        "grad_h2 = np.dot(h1_sig, diff)\n",
        "\n",
        "grad_h2"
      ],
      "execution_count": 41,
      "outputs": [
        {
          "output_type": "execute_result",
          "data": {
            "text/plain": [
              "array([[-0.03074824],\n",
              "       [-0.03654146]])"
            ]
          },
          "metadata": {
            "tags": []
          },
          "execution_count": 41
        }
      ]
    },
    {
      "cell_type": "code",
      "metadata": {
        "id": "GLeVM5VoqN5c",
        "colab_type": "code",
        "colab": {
          "base_uri": "https://localhost:8080/",
          "height": 52
        },
        "outputId": "a748684b-307f-42db-ecaa-38a0e42ab738"
      },
      "source": [
        "alpha = 0.01\n",
        "h2_weight = h2_weight - grad_h2 * alpha\n",
        "h2_weight"
      ],
      "execution_count": 42,
      "outputs": [
        {
          "output_type": "execute_result",
          "data": {
            "text/plain": [
              "array([[0.05630748],\n",
              "       [0.06736541]])"
            ]
          },
          "metadata": {
            "tags": []
          },
          "execution_count": 42
        }
      ]
    },
    {
      "cell_type": "code",
      "metadata": {
        "id": "jx1WIeNRuIDC",
        "colab_type": "code",
        "colab": {}
      },
      "source": [
        "h2_bias = h2_bias - alpha * diff"
      ],
      "execution_count": 43,
      "outputs": []
    },
    {
      "cell_type": "code",
      "metadata": {
        "id": "xvU0cj8aPqNc",
        "colab_type": "code",
        "colab": {
          "base_uri": "https://localhost:8080/",
          "height": 87
        },
        "outputId": "dfe77866-0562-4f34-9de5-255ddd2eda13"
      },
      "source": [
        "h2_bias"
      ],
      "execution_count": 44,
      "outputs": [
        {
          "output_type": "execute_result",
          "data": {
            "text/plain": [
              "array([[0.02119645],\n",
              "       [0.0111945 ],\n",
              "       [0.01117083],\n",
              "       [0.02116875]])"
            ]
          },
          "metadata": {
            "tags": []
          },
          "execution_count": 44
        }
      ]
    },
    {
      "cell_type": "code",
      "metadata": {
        "id": "yWZ7OH32Wjct",
        "colab_type": "code",
        "colab": {
          "base_uri": "https://localhost:8080/",
          "height": 52
        },
        "outputId": "fb8c7e31-00a7-4b9c-a504-41c8099e7964"
      },
      "source": [
        " h1_weight = h1_weight - alpha * np.dot(X, np.dot(np.dot(np.dot(h2_weight, diff.T).T, h1_sig), (1 - h1_sig).T))\n",
        " h1_weight"
      ],
      "execution_count": 45,
      "outputs": [
        {
          "output_type": "execute_result",
          "data": {
            "text/plain": [
              "array([[-0.88995553,  0.02803898],\n",
              "       [ 0.09804757, -0.0699583 ]])"
            ]
          },
          "metadata": {
            "tags": []
          },
          "execution_count": 45
        }
      ]
    },
    {
      "cell_type": "code",
      "metadata": {
        "id": "dOod0YOfXeHZ",
        "colab_type": "code",
        "colab": {
          "base_uri": "https://localhost:8080/",
          "height": 52
        },
        "outputId": "6e636738-fed8-4c4a-daae-99d15b7a010c"
      },
      "source": [
        "h1_bias = h1_bias - np.dot(np.dot(np.dot(h2_weight, diff.T).T, h1_sig), (1 - h1_sig).T).T\n",
        "h1_bias"
      ],
      "execution_count": 47,
      "outputs": [
        {
          "output_type": "execute_result",
          "data": {
            "text/plain": [
              "array([[ 0.16005832,  0.02906194,  0.02875195,  0.15969551],\n",
              "       [ 0.04965765, -0.0651694 , -0.06544113,  0.04933963]])"
            ]
          },
          "metadata": {
            "tags": []
          },
          "execution_count": 47
        }
      ]
    },
    {
      "cell_type": "code",
      "metadata": {
        "id": "BOsi2zQrYdjl",
        "colab_type": "code",
        "colab": {}
      },
      "source": [
        ""
      ],
      "execution_count": null,
      "outputs": []
    }
  ]
}