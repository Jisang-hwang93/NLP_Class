{
  "nbformat": 4,
  "nbformat_minor": 0,
  "metadata": {
    "colab": {
      "name": "16 Deep Learning XOR.ipynb",
      "provenance": [],
      "collapsed_sections": [],
      "authorship_tag": "ABX9TyNlk0sLb5izjddzm5HsKX7p",
      "include_colab_link": true
    },
    "kernelspec": {
      "name": "python3",
      "display_name": "Python 3"
    }
  },
  "cells": [
    {
      "cell_type": "markdown",
      "metadata": {
        "id": "view-in-github",
        "colab_type": "text"
      },
      "source": [
        "<a href=\"https://colab.research.google.com/github/jisang93/NLP_Class/blob/master/16%20Deep%20Learning%20XOR.ipynb\" target=\"_parent\"><img src=\"https://colab.research.google.com/assets/colab-badge.svg\" alt=\"Open In Colab\"/></a>"
      ]
    },
    {
      "cell_type": "markdown",
      "metadata": {
        "id": "T5iHxwmca0kN",
        "colab_type": "text"
      },
      "source": [
        "# **딥러닝을 이용한 XOR**"
      ]
    },
    {
      "cell_type": "markdown",
      "metadata": {
        "id": "XF6SQ8pUa3Vq",
        "colab_type": "text"
      },
      "source": [
        "## **1. XOR**"
      ]
    },
    {
      "cell_type": "code",
      "metadata": {
        "id": "njK4nhyEKipp",
        "colab_type": "code",
        "colab": {
          "base_uri": "https://localhost:8080/",
          "height": 52
        },
        "outputId": "1c85a07a-d5db-4c6d-f212-147232e52409"
      },
      "source": [
        "import numpy as np\n",
        "\n",
        "# X, Y 값\n",
        "X = np.array([[0, 0, 1, 1], [0, 1, 0, 1]])\n",
        "Y = np.array([[0, 1, 1, 0]])\n",
        "\n",
        "X, Y"
      ],
      "execution_count": 235,
      "outputs": [
        {
          "output_type": "execute_result",
          "data": {
            "text/plain": [
              "(array([[0, 0, 1, 1],\n",
              "        [0, 1, 0, 1]]), array([[0, 1, 1, 0]]))"
            ]
          },
          "metadata": {
            "tags": []
          },
          "execution_count": 235
        }
      ]
    },
    {
      "cell_type": "code",
      "metadata": {
        "id": "rDvabqSyK5dH",
        "colab_type": "code",
        "colab": {}
      },
      "source": [
        "# h1, h2, h1_bias, h2_bias\n",
        "h1_weight = np.array([[-0.89, 0.028], [0.098, -0.07]])\n",
        "h1_bias = np.array([[0.092], [-0.01]])\n",
        "\n",
        "h2_weight = np.array([[0.056], [0.067]])\n",
        "h2_bias = np.array([[0.016]])"
      ],
      "execution_count": 236,
      "outputs": []
    },
    {
      "cell_type": "code",
      "metadata": {
        "id": "yDTVmmvzbbOq",
        "colab_type": "code",
        "colab": {
          "base_uri": "https://localhost:8080/",
          "height": 52
        },
        "outputId": "46c15792-2bc5-40f0-f34a-0f47a5caeb5a"
      },
      "source": [
        "# X*Weight + Bias*Weight\n",
        "h1_cal = np.dot(h1_weight, X) + h1_bias\n",
        "\n",
        "h1_cal"
      ],
      "execution_count": 237,
      "outputs": [
        {
          "output_type": "execute_result",
          "data": {
            "text/plain": [
              "array([[ 0.092,  0.12 , -0.798, -0.77 ],\n",
              "       [-0.01 , -0.08 ,  0.088,  0.018]])"
            ]
          },
          "metadata": {
            "tags": []
          },
          "execution_count": 237
        }
      ]
    },
    {
      "cell_type": "code",
      "metadata": {
        "id": "lSJmP9NlU0uT",
        "colab_type": "code",
        "colab": {
          "base_uri": "https://localhost:8080/",
          "height": 52
        },
        "outputId": "88768ba8-0d13-43d2-8ae9-fbd8211621cd"
      },
      "source": [
        "# 시그모이드 함수\n",
        "def sigmoid(x):\n",
        "\treturn 1 / (1 + np.exp(-x))\n",
        " \n",
        "h1_sig = sigmoid(h1_cal)\n",
        "h1_sig"
      ],
      "execution_count": 238,
      "outputs": [
        {
          "output_type": "execute_result",
          "data": {
            "text/plain": [
              "array([[0.52298379, 0.52996405, 0.3104535 , 0.31647911],\n",
              "       [0.49750002, 0.48001066, 0.52198581, 0.50449988]])"
            ]
          },
          "metadata": {
            "tags": []
          },
          "execution_count": 238
        }
      ]
    },
    {
      "cell_type": "code",
      "metadata": {
        "id": "OU5W5T2uhtv7",
        "colab_type": "code",
        "colab": {
          "base_uri": "https://localhost:8080/",
          "height": 87
        },
        "outputId": "2dc07458-a383-412e-9206-473c86eda46a"
      },
      "source": [
        "h2_cal = np.dot(h1_sig.T, h2_weight) + h2_bias\n",
        "h2_cal"
      ],
      "execution_count": 239,
      "outputs": [
        {
          "output_type": "execute_result",
          "data": {
            "text/plain": [
              "array([[0.07861959],\n",
              "       [0.0778387 ],\n",
              "       [0.06835845],\n",
              "       [0.06752432]])"
            ]
          },
          "metadata": {
            "tags": []
          },
          "execution_count": 239
        }
      ]
    },
    {
      "cell_type": "code",
      "metadata": {
        "id": "n5F2Idy2hvZS",
        "colab_type": "code",
        "colab": {
          "base_uri": "https://localhost:8080/",
          "height": 87
        },
        "outputId": "1aaec244-022d-4fd8-ac66-93594acf6c6b"
      },
      "source": [
        "predict = sigmoid(h2_cal)\n",
        "predict"
      ],
      "execution_count": 240,
      "outputs": [
        {
          "output_type": "execute_result",
          "data": {
            "text/plain": [
              "array([[0.51964478],\n",
              "       [0.51944986],\n",
              "       [0.51708296],\n",
              "       [0.51687467]])"
            ]
          },
          "metadata": {
            "tags": []
          },
          "execution_count": 240
        }
      ]
    },
    {
      "cell_type": "code",
      "metadata": {
        "id": "0JIpmhOOh_yj",
        "colab_type": "code",
        "colab": {
          "base_uri": "https://localhost:8080/",
          "height": 87
        },
        "outputId": "81ab0dbd-b157-47f1-b174-e2efd5a93e95"
      },
      "source": [
        "diff = predict - Y.T\n",
        "diff"
      ],
      "execution_count": 241,
      "outputs": [
        {
          "output_type": "execute_result",
          "data": {
            "text/plain": [
              "array([[ 0.51964478],\n",
              "       [-0.48055014],\n",
              "       [-0.48291704],\n",
              "       [ 0.51687467]])"
            ]
          },
          "metadata": {
            "tags": []
          },
          "execution_count": 241
        }
      ]
    },
    {
      "cell_type": "code",
      "metadata": {
        "id": "1Vqsm81RSB_r",
        "colab_type": "code",
        "colab": {
          "base_uri": "https://localhost:8080/",
          "height": 34
        },
        "outputId": "a3b9128a-af17-4cdf-80e5-60a45d29ff94"
      },
      "source": [
        "def loss(r, p):\n",
        "   return -((np.dot(r, np.log(p)) + np.dot((1 - r), np.log(1-p)))/len(r[0]))[0][0]\n",
        "\n",
        "L = loss(Y, predict)\n",
        "L"
      ],
      "execution_count": 242,
      "outputs": [
        {
          "output_type": "execute_result",
          "data": {
            "text/plain": [
              "0.6938113835190924"
            ]
          },
          "metadata": {
            "tags": []
          },
          "execution_count": 242
        }
      ]
    },
    {
      "cell_type": "code",
      "metadata": {
        "id": "vMwofOevpoBZ",
        "colab_type": "code",
        "colab": {
          "base_uri": "https://localhost:8080/",
          "height": 52
        },
        "outputId": "da1b4a4a-5bb7-4361-f101-3dcaa03b88ab"
      },
      "source": [
        "grad_h2 = np.dot(h1_sig, diff)\n",
        "grad_h2"
      ],
      "execution_count": 243,
      "outputs": [
        {
          "output_type": "execute_result",
          "data": {
            "text/plain": [
              "array([[0.03074824],\n",
              "       [0.03654146]])"
            ]
          },
          "metadata": {
            "tags": []
          },
          "execution_count": 243
        }
      ]
    },
    {
      "cell_type": "code",
      "metadata": {
        "id": "GLeVM5VoqN5c",
        "colab_type": "code",
        "colab": {
          "base_uri": "https://localhost:8080/",
          "height": 52
        },
        "outputId": "5ecc7038-25f1-49c8-8dd3-f0f1477325fb"
      },
      "source": [
        "alpha = 0.01\n",
        "h2_weight = h2_weight - grad_h2 * alpha\n",
        "h2_weight"
      ],
      "execution_count": 244,
      "outputs": [
        {
          "output_type": "execute_result",
          "data": {
            "text/plain": [
              "array([[0.05569252],\n",
              "       [0.06663459]])"
            ]
          },
          "metadata": {
            "tags": []
          },
          "execution_count": 244
        }
      ]
    },
    {
      "cell_type": "code",
      "metadata": {
        "id": "jx1WIeNRuIDC",
        "colab_type": "code",
        "colab": {
          "base_uri": "https://localhost:8080/",
          "height": 87
        },
        "outputId": "1f346a43-2057-4d1d-e1d9-bd8ae9931346"
      },
      "source": [
        "h2_bias = h2_bias - alpha * diff\n",
        "h2_bias"
      ],
      "execution_count": 245,
      "outputs": [
        {
          "output_type": "execute_result",
          "data": {
            "text/plain": [
              "array([[0.01080355],\n",
              "       [0.0208055 ],\n",
              "       [0.02082917],\n",
              "       [0.01083125]])"
            ]
          },
          "metadata": {
            "tags": []
          },
          "execution_count": 245
        }
      ]
    },
    {
      "cell_type": "code",
      "metadata": {
        "id": "yWZ7OH32Wjct",
        "colab_type": "code",
        "colab": {
          "base_uri": "https://localhost:8080/",
          "height": 52
        },
        "outputId": "03292a3f-0d71-467a-f6a5-bedd9c7caecc"
      },
      "source": [
        " h1_weight = h1_weight - alpha * np.dot(X, np.dot(np.dot(np.dot(h2_weight, diff.T).T, h1_sig), (1 - h1_sig).T))\n",
        " h1_weight"
      ],
      "execution_count": 246,
      "outputs": [
        {
          "output_type": "execute_result",
          "data": {
            "text/plain": [
              "array([[-0.89004399,  0.02796144],\n",
              "       [ 0.09795294, -0.07004125]])"
            ]
          },
          "metadata": {
            "tags": []
          },
          "execution_count": 246
        }
      ]
    },
    {
      "cell_type": "code",
      "metadata": {
        "id": "dOod0YOfXeHZ",
        "colab_type": "code",
        "colab": {
          "base_uri": "https://localhost:8080/",
          "height": 52
        },
        "outputId": "40854f6f-bfe9-4e5c-c796-93f7a81bf53b"
      },
      "source": [
        "h1_bias = h1_bias - np.dot(np.dot(np.dot(h2_weight, diff.T).T, h1_sig), (1 - h1_sig).T).T\n",
        "h1_bias"
      ],
      "execution_count": 247,
      "outputs": [
        {
          "output_type": "execute_result",
          "data": {
            "text/plain": [
              "array([[ 0.02468201,  0.15425343,  0.15456005,  0.02504087],\n",
              "       [-0.06900864,  0.04456922,  0.04483799, -0.06869408]])"
            ]
          },
          "metadata": {
            "tags": []
          },
          "execution_count": 247
        }
      ]
    },
    {
      "cell_type": "markdown",
      "metadata": {
        "id": "bE_SFhyPa6YY",
        "colab_type": "text"
      },
      "source": [
        "## **2. XOR 클래스화**"
      ]
    },
    {
      "cell_type": "markdown",
      "metadata": {
        "id": "7eWuIP6LbPOS",
        "colab_type": "text"
      },
      "source": [
        "### **2-1. XOR 클래스**"
      ]
    },
    {
      "cell_type": "code",
      "metadata": {
        "id": "BOsi2zQrYdjl",
        "colab_type": "code",
        "colab": {}
      },
      "source": [
        "import numpy as np\n",
        "\n",
        "class XOR():\n",
        "    def __init__(self, X, Y):\n",
        "        self.X = X\n",
        "        self.Y = Y\n",
        "        self.x2h = [] \n",
        "        self.x2h_bias = []\n",
        "        self.h2y = []\n",
        "        self.h2y_bias = []\n",
        "        self.x2h_sig = []\n",
        "        self.predict = []\n",
        "        self.diff = []\n",
        "        self.L = 0\n",
        "\n",
        "    # Hidden Layer 설정\n",
        "    def hidden_layer(self, k):\n",
        "        # # X to Hidden Layer Weight\n",
        "        self.x2h = np.random.rand(k, len(self.X))\n",
        "        self.x2h_bias = np.random.rand(len(self.X),1)\n",
        "        # Hidden Layer to Y Weight\n",
        "        self.h2y = np.random.rand(len(self.X), len(self.Y))\n",
        "        self.h2y_bias = np.random.rand(1, len(self.Y))\n",
        "\n",
        "        return self.x2h, self.x2h_bias, self.h2y, self.h2y_bias\n",
        "\n",
        "    # Y 예측\n",
        "    def predict_Y(self):\n",
        "        # Sigmoid 함수\n",
        "        def sigmoid(x):\n",
        "\t        return 1 / (1 + np.exp(-x))\n",
        "         \n",
        "        # X * X2H_Weight + X2H_Bias\n",
        "        x2h_cal = np.dot(self.x2h.T, X) + self.x2h_bias\n",
        "        self.x2h_sig = sigmoid(x2h_cal)\n",
        "        # Sigmoid_X * H2Y_Weight + H2Y_Bias\n",
        "        h2y_cal = np.dot(self.x2h_sig.T, self.h2y) + self.h2y_bias\n",
        "        self.predict = sigmoid(h2y_cal)\n",
        "        self.diff = self.predict - self.Y.T\n",
        "\n",
        "        # Loss 함수\n",
        "        def loss(r, p):\n",
        "            return -((np.dot(r, np.log(p)) + np.dot((1 - r), np.log(1-p)))/len(r[0]))[0][0]\n",
        "        \n",
        "        self.L = loss(self.Y, self.predict)\n",
        "\n",
        "        return self.predict, self.L\n",
        "\n",
        "    # Back Propagation 구현\n",
        "    def back_propagation(self, alpha):\n",
        "        grad_h2y = np.dot(self.x2h_sig, self.diff)\n",
        "        # Hidden Layer to Y Weight Gradient \n",
        "        self.h2y = self.h2y - alpha * grad_h2y\n",
        "        # Hidden layer to Y Bias Gradient\n",
        "        self.h2y_bias = self.h2y_bias - alpha * self.diff\n",
        "        # X to Hidden Layer Weight Gradient\n",
        "        self.x2h = self.x2h - alpha * np.dot(X, np.dot(np.dot(np.dot(self.h2y, self.diff.T).T, self.x2h_sig), (1 - self.x2h_sig).T))\n",
        "        # X to Hidden Layer Bias Gradient\n",
        "        self.x2h_bias = self.x2h_bias - alpha * np.dot(np.dot(np.dot(self.h2y, self.diff.T).T, self.x2h_sig), (1-self.x2h_sig).T).T\n",
        "\n",
        "    # 자동 실행\n",
        "    def run(self, k, alpha, epochs):\n",
        "        self.hidden_layer(k)\n",
        "        L1 = 0\n",
        "        for j in range(epochs):    \n",
        "            self.predict_Y()\n",
        "            if L1 != self.L:\n",
        "                self.back_propagation(alpha)\n",
        "                L1 = self.L.copy()\n",
        "            else:\n",
        "                break\n",
        "        print(\"Loss : {}. 예측 Y값 : {}\".format(self.L, self.predict.T))"
      ],
      "execution_count": 230,
      "outputs": []
    },
    {
      "cell_type": "markdown",
      "metadata": {
        "id": "fHmqPSwWbK0c",
        "colab_type": "text"
      },
      "source": [
        "### **2-2. 결과 확인**"
      ]
    },
    {
      "cell_type": "code",
      "metadata": {
        "id": "GpKzRQWNbKA7",
        "colab_type": "code",
        "colab": {}
      },
      "source": [
        "# X, Y 값\n",
        "X = np.array([[0, 0, 1, 1], [0, 1, 0, 1]])\n",
        "Y = np.array([[0, 1, 1, 0]])"
      ],
      "execution_count": 231,
      "outputs": []
    },
    {
      "cell_type": "code",
      "metadata": {
        "id": "T7-6RDAkcxms",
        "colab_type": "code",
        "colab": {}
      },
      "source": [
        "xor = XOR(X, Y)"
      ],
      "execution_count": 232,
      "outputs": []
    },
    {
      "cell_type": "code",
      "metadata": {
        "id": "kO3-k2gQmYhT",
        "colab_type": "code",
        "colab": {
          "base_uri": "https://localhost:8080/",
          "height": 34
        },
        "outputId": "a692f3bb-88b3-424e-9f4d-4d396c2575c0"
      },
      "source": [
        "xor.run(2, 0.01, 1000)"
      ],
      "execution_count": 233,
      "outputs": [
        {
          "output_type": "stream",
          "text": [
            "Loss : 0.0786985355921335. 예측 Y값 : [[0.05891401 0.90806575 0.90839195 0.0596993 ]]\n"
          ],
          "name": "stdout"
        }
      ]
    }
  ]
}