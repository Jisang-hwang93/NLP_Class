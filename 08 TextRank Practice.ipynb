{
  "nbformat": 4,
  "nbformat_minor": 0,
  "metadata": {
    "colab": {
      "name": "08 TextRank Practice.ipynb",
      "provenance": [],
      "collapsed_sections": [],
      "toc_visible": true,
      "authorship_tag": "ABX9TyNvGnlZaulLSmiypmC5Pbeb",
      "include_colab_link": true
    },
    "kernelspec": {
      "name": "python3",
      "display_name": "Python 3"
    },
    "accelerator": "GPU"
  },
  "cells": [
    {
      "cell_type": "markdown",
      "metadata": {
        "id": "view-in-github",
        "colab_type": "text"
      },
      "source": [
        "<a href=\"https://colab.research.google.com/github/Jisang-hwang93/NLP_Class/blob/master/08%20TextRank%20Practice.ipynb\" target=\"_parent\"><img src=\"https://colab.research.google.com/assets/colab-badge.svg\" alt=\"Open In Colab\"/></a>"
      ]
    },
    {
      "cell_type": "markdown",
      "metadata": {
        "id": "k-r5KYrwc154",
        "colab_type": "text"
      },
      "source": [
        "# **Keyword Extraction - TextRank**"
      ]
    },
    {
      "cell_type": "markdown",
      "metadata": {
        "id": "VUKDg_XA5ao_",
        "colab_type": "text"
      },
      "source": [
        "## **1. TextRank 구현**"
      ]
    },
    {
      "cell_type": "code",
      "metadata": {
        "id": "mcNdhEXYbJGe",
        "colab_type": "code",
        "colab": {}
      },
      "source": [
        "# 데이터 입력\n",
        "word_ls = [\"딸기\", \"바나나\", \"사과\", \"딸기\", \"파인애플\"]"
      ],
      "execution_count": 1,
      "outputs": []
    },
    {
      "cell_type": "code",
      "metadata": {
        "id": "dEexFZpQd87_",
        "colab_type": "code",
        "colab": {
          "base_uri": "https://localhost:8080/",
          "height": 52
        },
        "outputId": "ba3a3e6d-5ced-440e-da62-82630c4a42e9"
      },
      "source": [
        "# 노드간 연결\n",
        "node = list(set(word_ls))\n",
        "\n",
        "matrix = [[0*i]*len(node) for i in range(len(node))]\n",
        "for i in range(len(word_ls)-1):\n",
        "    matrix[node.index(word_ls[i])][node.index(word_ls[i+1])] = 1\n",
        "    matrix[node.index(word_ls[i+1])][node.index(word_ls[i])] = 1\n",
        "    \n",
        "matrix, node"
      ],
      "execution_count": null,
      "outputs": [
        {
          "output_type": "execute_result",
          "data": {
            "text/plain": [
              "([[0, 0, 1, 1], [0, 0, 0, 1], [1, 0, 0, 1], [1, 1, 1, 0]],\n",
              " ['사과', '파인애플', '바나나', '딸기'])"
            ]
          },
          "metadata": {
            "tags": []
          },
          "execution_count": 2
        }
      ]
    },
    {
      "cell_type": "code",
      "metadata": {
        "id": "YBh6L8Ujd-1w",
        "colab_type": "code",
        "colab": {
          "base_uri": "https://localhost:8080/",
          "height": 34
        },
        "outputId": "e74f4b46-3432-4a78-977a-74fe8de9f01b"
      },
      "source": [
        "# 노드별 엣지 개수\n",
        "total_sum = [0] * 4\n",
        "\n",
        "for i in range(len(matrix)):\n",
        "    for j in range(len(matrix[i])):\n",
        "        total_sum[i] += matrix[i][j]\n",
        "\n",
        "total_sum"
      ],
      "execution_count": null,
      "outputs": [
        {
          "output_type": "execute_result",
          "data": {
            "text/plain": [
              "[2, 1, 2, 3]"
            ]
          },
          "metadata": {
            "tags": []
          },
          "execution_count": 3
        }
      ]
    },
    {
      "cell_type": "code",
      "metadata": {
        "id": "Mf1E8YaXOGoC",
        "colab_type": "code",
        "colab": {
          "base_uri": "https://localhost:8080/",
          "height": 87
        },
        "outputId": "43a15b5f-ce81-4fb1-fe77-96733da485df"
      },
      "source": [
        "# 노드간 엣지 가중치 행렬\n",
        "main_matrix = [[0*i]*len(matrix) for i in range(len(matrix))]\n",
        "\n",
        "for i in range(len(main_matrix)):\n",
        "    for j in range(len(main_matrix[i])):\n",
        "        main_matrix[i][j] = matrix[i][j] / total_sum[i]\n",
        "\n",
        "main_matrix"
      ],
      "execution_count": null,
      "outputs": [
        {
          "output_type": "execute_result",
          "data": {
            "text/plain": [
              "[[0.0, 0.0, 0.5, 0.5],\n",
              " [0.0, 0.0, 0.0, 1.0],\n",
              " [0.5, 0.0, 0.0, 0.5],\n",
              " [0.3333333333333333, 0.3333333333333333, 0.3333333333333333, 0.0]]"
            ]
          },
          "metadata": {
            "tags": []
          },
          "execution_count": 4
        }
      ]
    },
    {
      "cell_type": "code",
      "metadata": {
        "id": "8XtoTNFcOW3c",
        "colab_type": "code",
        "colab": {
          "base_uri": "https://localhost:8080/",
          "height": 34
        },
        "outputId": "0504b22f-c13c-4b08-f1b6-e033f023456a"
      },
      "source": [
        "# 스코어 계산\n",
        "node_sum = [0]*len(matrix)\n",
        "k = 0.85\n",
        "\n",
        "for i in range(len(main_matrix)):\n",
        "    for j in range(len(main_matrix[i])):\n",
        "        node_sum[i] += main_matrix[j][i]        \n",
        "    node_sum[i] = node_sum[i]*k + (1-k)\n",
        "\n",
        "node_sum"
      ],
      "execution_count": null,
      "outputs": [
        {
          "output_type": "execute_result",
          "data": {
            "text/plain": [
              "[0.8583333333333333, 0.43333333333333335, 0.8583333333333333, 1.85]"
            ]
          },
          "metadata": {
            "tags": []
          },
          "execution_count": 5
        }
      ]
    },
    {
      "cell_type": "code",
      "metadata": {
        "id": "fGF_Nz_ZPZ0m",
        "colab_type": "code",
        "colab": {
          "base_uri": "https://localhost:8080/",
          "height": 87
        },
        "outputId": "c4f56eb2-a0df-4dd9-fc77-923744bb0370"
      },
      "source": [
        "matrix = [[0*i]*4 for i in range(len(matrix))]\n",
        "for i in range(len(matrix)):\n",
        "    for j in range(len(matrix[i])):\n",
        "        matrix[i][j] = main_matrix[i][j] * node_sum[i]\n",
        "        \n",
        "matrix"
      ],
      "execution_count": null,
      "outputs": [
        {
          "output_type": "execute_result",
          "data": {
            "text/plain": [
              "[[0.0, 0.0, 0.42916666666666664, 0.42916666666666664],\n",
              " [0.0, 0.0, 0.0, 0.43333333333333335],\n",
              " [0.42916666666666664, 0.0, 0.0, 0.42916666666666664],\n",
              " [0.6166666666666667, 0.6166666666666667, 0.6166666666666667, 0.0]]"
            ]
          },
          "metadata": {
            "tags": []
          },
          "execution_count": 6
        }
      ]
    },
    {
      "cell_type": "code",
      "metadata": {
        "id": "2m0QEjtYXP8U",
        "colab_type": "code",
        "colab": {
          "base_uri": "https://localhost:8080/",
          "height": 87
        },
        "outputId": "3391c818-9c0e-44a1-e89c-4982c0e1f29c"
      },
      "source": [
        "node_sum2 = [0] * len(matrix)\n",
        "for i in range(len(matrix)):\n",
        "    for j in range(len(matrix[i])):\n",
        "        node_sum2[i] += matrix[j][i]\n",
        "    node_sum2[i] = node_sum2[i]*k + (1-k)\n",
        "    \n",
        "node_sum2"
      ],
      "execution_count": null,
      "outputs": [
        {
          "output_type": "execute_result",
          "data": {
            "text/plain": [
              "[1.0389583333333334,\n",
              " 0.6741666666666667,\n",
              " 1.0389583333333334,\n",
              " 1.2479166666666668]"
            ]
          },
          "metadata": {
            "tags": []
          },
          "execution_count": 7
        }
      ]
    },
    {
      "cell_type": "markdown",
      "metadata": {
        "id": "UvEzNWGy7xbc",
        "colab_type": "text"
      },
      "source": [
        "### **1-1. 결과 출력**"
      ]
    },
    {
      "cell_type": "code",
      "metadata": {
        "id": "G2K7KqPr729t",
        "colab_type": "code",
        "colab": {
          "base_uri": "https://localhost:8080/",
          "height": 105
        },
        "outputId": "d0fece4d-e31e-4dd7-d56d-d401895f35eb"
      },
      "source": [
        "print(\"======= 핵심 키워드 =======\")\n",
        "for i in range(len(matrix)):\n",
        "    print(\"{} : {:.4f}\".format(node[i], node_sum2[i]))"
      ],
      "execution_count": null,
      "outputs": [
        {
          "output_type": "stream",
          "text": [
            "======= 핵심 키워드 =======\n",
            "사과 : 1.0390\n",
            "파인애플 : 0.6742\n",
            "바나나 : 1.0390\n",
            "딸기 : 1.2479\n"
          ],
          "name": "stdout"
        }
      ]
    },
    {
      "cell_type": "markdown",
      "metadata": {
        "id": "hxZ6Ug0E-Mu7",
        "colab_type": "text"
      },
      "source": [
        "## **2. TextRank Class화**"
      ]
    },
    {
      "cell_type": "code",
      "metadata": {
        "id": "hwgcsXqg9_Jr",
        "colab_type": "code",
        "colab": {}
      },
      "source": [
        "class textrank():\n",
        "    def __init__(self):\n",
        "        self.node = []\n",
        "        self.count_matrix = []\n",
        "        self.total_sum = []\n",
        "        self.main_matrix = []\n",
        "        self.first_node_sum = []\n",
        "\n",
        "    # 노드간 연결\n",
        "    def connect_node(self, word_ls):\n",
        "        self.node = list(set(word_ls))\n",
        "        self.count_matrix = [[0*i]*len(self.node) for i in range(len(self.node))]\n",
        "        for i in range(len(word_ls)-1):\n",
        "            self.count_matrix[self.node.index(word_ls[i])][self.node.index(word_ls[i+1])] = 1\n",
        "            self.count_matrix[self.node.index(word_ls[i+1])][self.node.index(word_ls[i])] = 1\n",
        "            \n",
        "        return self.count_matrix, self.node\n",
        "\n",
        "    # 노드별 엣지 개수\n",
        "    def count_node(self):\n",
        "        self.total_sum = [0] * len(self.node)\n",
        "        for i in range(len(self.count_matrix)):\n",
        "            for j in range(len(self.count_matrix[i])):\n",
        "                self.total_sum[i] += self.count_matrix[i][j]\n",
        "\n",
        "        return self.total_sum\n",
        "\n",
        "    # 노드간 엣지 가중치 행렬\n",
        "    def make_mainmatrix(self):\n",
        "        self.main_matrix = [[0*i]*len(self.count_matrix) for i in range(len(self.count_matrix))]\n",
        "        for i in range(len(self.main_matrix)):\n",
        "            for j in range(len(self.main_matrix[i])):\n",
        "                self.main_matrix[i][j] = self.count_matrix[i][j] / self.total_sum[i]\n",
        "\n",
        "        return self.main_matrix\n",
        "\n",
        "    # 첫 스코어 계산\n",
        "    def cal_first_score(self, k):\n",
        "        self.first_node_sum = [0]*len(self.count_matrix)\n",
        "        for i in range(len(self.main_matrix)):\n",
        "            for j in range(len(self.main_matrix[i])):\n",
        "                self.first_node_sum[i] += self.main_matrix[j][i]        \n",
        "            self.first_node_sum[i] = self.first_node_sum[i]*k + (1-k)\n",
        "\n",
        "        return self.first_node_sum\n",
        "    \n",
        "    # 행렬 계산\n",
        "    def cal_matrix(self, node_sum):\n",
        "        matrix = [[0*i]*len(self.node) for i in range(len(self.node))]\n",
        "        for i in range(len(matrix)):\n",
        "            for j in range(len(matrix[i])):\n",
        "                matrix[i][j] = self.main_matrix[i][j] * node_sum[i]\n",
        "        \n",
        "        return matrix\n",
        "\n",
        "    # 스코어 계산\n",
        "    def cal_score(self, k, matrix):\n",
        "        node_sum = [0]*len(self.count_matrix)\n",
        "        for i in range(len(matrix)):\n",
        "            for j in range(len(matrix)):\n",
        "                node_sum[i] += matrix[j][i]        \n",
        "            node_sum[i] = node_sum[i]*k + (1-k)\n",
        "\n",
        "        return node_sum\n",
        "\n",
        "    # 자동 실행\n",
        "    def run(self, word_ls, k, num):\n",
        "        self.connect_node(word_ls)\n",
        "        self.count_node()\n",
        "        self.make_mainmatrix()\n",
        "        score = self.cal_first_score(k)\n",
        "        for i in range(num):\n",
        "            matrix = self.cal_matrix(score)\n",
        "            score = self.cal_score(k, matrix)\n",
        "            # 결과 출력\n",
        "            print(\"======= 핵심 키워드 =======\")\n",
        "            for i in range(len(matrix)):\n",
        "                print(\"{} : {:.4f}\".format(self.node[i], score[i]))"
      ],
      "execution_count": 49,
      "outputs": []
    },
    {
      "cell_type": "markdown",
      "metadata": {
        "id": "3WV5nBg3ECpm",
        "colab_type": "text"
      },
      "source": [
        "### **2-1. 결과 확인**"
      ]
    },
    {
      "cell_type": "code",
      "metadata": {
        "id": "j80JzUN5AZHE",
        "colab_type": "code",
        "colab": {}
      },
      "source": [
        "# 데이터 입력\n",
        "word_ls = [\"딸기\", \"바나나\", \"사과\", \"딸기\", \"파인애플\", \"딸기\", \"바나나\", \"사과\", \"옥수수\", \"사과\"]"
      ],
      "execution_count": 50,
      "outputs": []
    },
    {
      "cell_type": "code",
      "metadata": {
        "id": "7ERPtqbRAG4v",
        "colab_type": "code",
        "colab": {}
      },
      "source": [
        "tr = textrank()"
      ],
      "execution_count": 51,
      "outputs": []
    },
    {
      "cell_type": "code",
      "metadata": {
        "id": "D0j_hq7UBDCJ",
        "colab_type": "code",
        "colab": {
          "base_uri": "https://localhost:8080/",
          "height": 1000
        },
        "outputId": "aad6fc86-10aa-4810-edff-600254d1b8b0"
      },
      "source": [
        "tr.run(word_ls, 0.85, 20)"
      ],
      "execution_count": 52,
      "outputs": [
        {
          "output_type": "stream",
          "text": [
            "======= 핵심 키워드 =======\n",
            "딸기 : 1.3069\n",
            "사과 : 1.3069\n",
            "파인애플 : 0.6340\n",
            "바나나 : 1.1181\n",
            "옥수수 : 0.6340\n",
            "======= 핵심 키워드 =======\n",
            "딸기 : 1.5344\n",
            "사과 : 1.5344\n",
            "파인애플 : 0.5203\n",
            "바나나 : 0.8906\n",
            "옥수수 : 0.5203\n",
            "======= 핵심 키워드 =======\n",
            "딸기 : 1.4055\n",
            "사과 : 1.4055\n",
            "파인애플 : 0.5847\n",
            "바나나 : 1.0195\n",
            "옥수수 : 0.5847\n",
            "======= 핵심 키워드 =======\n",
            "딸기 : 1.4785\n",
            "사과 : 1.4785\n",
            "파인애플 : 0.5482\n",
            "바나나 : 0.9465\n",
            "옥수수 : 0.5482\n",
            "======= 핵심 키워드 =======\n",
            "딸기 : 1.4372\n",
            "사과 : 1.4372\n",
            "파인애플 : 0.5689\n",
            "바나나 : 0.9878\n",
            "옥수수 : 0.5689\n",
            "======= 핵심 키워드 =======\n",
            "딸기 : 1.4606\n",
            "사과 : 1.4606\n",
            "파인애플 : 0.5572\n",
            "바나나 : 0.9644\n",
            "옥수수 : 0.5572\n",
            "======= 핵심 키워드 =======\n",
            "딸기 : 1.4473\n",
            "사과 : 1.4473\n",
            "파인애플 : 0.5638\n",
            "바나나 : 0.9777\n",
            "옥수수 : 0.5638\n",
            "======= 핵심 키워드 =======\n",
            "딸기 : 1.4549\n",
            "사과 : 1.4549\n",
            "파인애플 : 0.5601\n",
            "바나나 : 0.9701\n",
            "옥수수 : 0.5601\n",
            "======= 핵심 키워드 =======\n",
            "딸기 : 1.4506\n",
            "사과 : 1.4506\n",
            "파인애플 : 0.5622\n",
            "바나나 : 0.9744\n",
            "옥수수 : 0.5622\n",
            "======= 핵심 키워드 =======\n",
            "딸기 : 1.4530\n",
            "사과 : 1.4530\n",
            "파인애플 : 0.5610\n",
            "바나나 : 0.9720\n",
            "옥수수 : 0.5610\n",
            "======= 핵심 키워드 =======\n",
            "딸기 : 1.4516\n",
            "사과 : 1.4516\n",
            "파인애플 : 0.5617\n",
            "바나나 : 0.9734\n",
            "옥수수 : 0.5617\n",
            "======= 핵심 키워드 =======\n",
            "딸기 : 1.4524\n",
            "사과 : 1.4524\n",
            "파인애플 : 0.5613\n",
            "바나나 : 0.9726\n",
            "옥수수 : 0.5613\n",
            "======= 핵심 키워드 =======\n",
            "딸기 : 1.4520\n",
            "사과 : 1.4520\n",
            "파인애플 : 0.5615\n",
            "바나나 : 0.9730\n",
            "옥수수 : 0.5615\n",
            "======= 핵심 키워드 =======\n",
            "딸기 : 1.4522\n",
            "사과 : 1.4522\n",
            "파인애플 : 0.5614\n",
            "바나나 : 0.9728\n",
            "옥수수 : 0.5614\n",
            "======= 핵심 키워드 =======\n",
            "딸기 : 1.4521\n",
            "사과 : 1.4521\n",
            "파인애플 : 0.5615\n",
            "바나나 : 0.9729\n",
            "옥수수 : 0.5615\n",
            "======= 핵심 키워드 =======\n",
            "딸기 : 1.4522\n",
            "사과 : 1.4522\n",
            "파인애플 : 0.5614\n",
            "바나나 : 0.9728\n",
            "옥수수 : 0.5614\n",
            "======= 핵심 키워드 =======\n",
            "딸기 : 1.4521\n",
            "사과 : 1.4521\n",
            "파인애플 : 0.5614\n",
            "바나나 : 0.9729\n",
            "옥수수 : 0.5614\n",
            "======= 핵심 키워드 =======\n",
            "딸기 : 1.4521\n",
            "사과 : 1.4521\n",
            "파인애플 : 0.5614\n",
            "바나나 : 0.9729\n",
            "옥수수 : 0.5614\n",
            "======= 핵심 키워드 =======\n",
            "딸기 : 1.4521\n",
            "사과 : 1.4521\n",
            "파인애플 : 0.5614\n",
            "바나나 : 0.9729\n",
            "옥수수 : 0.5614\n",
            "======= 핵심 키워드 =======\n",
            "딸기 : 1.4521\n",
            "사과 : 1.4521\n",
            "파인애플 : 0.5614\n",
            "바나나 : 0.9729\n",
            "옥수수 : 0.5614\n"
          ],
          "name": "stdout"
        }
      ]
    },
    {
      "cell_type": "code",
      "metadata": {
        "id": "3-0QIaVpjjOs",
        "colab_type": "code",
        "colab": {}
      },
      "source": [
        ""
      ],
      "execution_count": null,
      "outputs": []
    }
  ]
}